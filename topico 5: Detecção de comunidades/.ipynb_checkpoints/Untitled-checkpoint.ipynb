{
 "cells": [
  {
   "cell_type": "code",
   "execution_count": 11,
   "metadata": {},
   "outputs": [
    {
     "data": {
      "text/plain": [
       "0.0011999999999999995"
      ]
     },
     "execution_count": 11,
     "metadata": {},
     "output_type": "execute_result"
    }
   ],
   "source": [
    "def lim(teta, n):\n",
    "    a = (1-2*teta)**2\n",
    "    b = 1-teta\n",
    "    c = teta\n",
    "    resultado = (a*b*c)/n\n",
    "    return resultado\n",
    "\n",
    "lim(0.4,8)"
   ]
  },
  {
   "cell_type": "code",
   "execution_count": 10,
   "metadata": {},
   "outputs": [
    {
     "name": "stdout",
     "output_type": "stream",
     "text": [
      "2.4333333333333336\n",
      "0.4576304994126854\n"
     ]
    }
   ],
   "source": [
    "valores = [1.1,0.4,0.6,0.1,9.9,2.5]\n",
    "def EMV_media(valores):\n",
    "  return sum(valores) / len(valores)\n",
    "\n",
    "\n",
    "def EMV_lambida(valores):\n",
    "  a = len(valores)\n",
    "  b = 0\n",
    "  for i in valores:\n",
    "    b+= 1/i - 1/EMV_media(valores)\n",
    "  return a / b\n",
    "\n",
    "print(EMV_media(valores))\n",
    "print(EMV_lambida(valores))\n",
    "\n",
    "# def conta(lista):\n",
    "#   x = 0\n",
    "#   media = 0\n",
    "#   for i in range(len(lista)):\n",
    "#     media += lista[i]\n",
    "#   media = media/len(lista)\n",
    "#   for i in range(len(lista)):\n",
    "#     x = x + (1/(lista[i]))-(1/media)\n",
    "#   resp = len(lista)/x\n",
    "#   return resp\n",
    "# lista = [0.3,8.0,1.7,0.5,0.8,1.1,1.8]\n",
    "# conta(lista)"
   ]
  }
 ],
 "metadata": {
  "kernelspec": {
   "display_name": "Python 3",
   "language": "python",
   "name": "python3"
  },
  "language_info": {
   "codemirror_mode": {
    "name": "ipython",
    "version": 3
   },
   "file_extension": ".py",
   "mimetype": "text/x-python",
   "name": "python",
   "nbconvert_exporter": "python",
   "pygments_lexer": "ipython3",
   "version": "3.7.6"
  }
 },
 "nbformat": 4,
 "nbformat_minor": 4
}
