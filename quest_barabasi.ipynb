{
 "cells": [
  {
   "cell_type": "markdown",
   "metadata": {},
   "source": [
    "# Questionário: Barabási-Albert\n",
    "Nome (Nro. USP): Aimê G. da Nobrega (11882429)<br>\n",
    "Disciplina: Redes Complexas (SME0130)<br>\n",
    "Docente: Francisco A. Rodrigues<br>\n",
    "USP São Carlos - ICMC"
   ]
  },
  {
   "cell_type": "code",
   "execution_count": 1,
   "metadata": {},
   "outputs": [],
   "source": [
    "from numpy  import *\n",
    "import numpy as np\n",
    "import matplotlib.pyplot as plt\n",
    "import networkx as nx"
   ]
  },
  {
   "cell_type": "code",
   "execution_count": 9,
   "metadata": {},
   "outputs": [],
   "source": [
    "def degree_distribution(GER):\n",
    "    vk = dict(GER.degree())\n",
    "    vk = list(vk.values()) # we get only the degree values\n",
    "    maxk = np.max(vk)\n",
    "    mink = np.min(min)\n",
    "    kvalues = arange(0, maxk+1) # possible values of k\n",
    "    Pk = np.zeros(maxk +1) #P(k)\n",
    "    for k in vk:\n",
    "        Pk[k] = Pk[k] +1\n",
    "    Pk = Pk/sum(Pk) # sum of elements of P(k)\n",
    "    return kvalues, Pk\n",
    "\n",
    "def momment_of_degree_distribution(G, m):\n",
    "    k, Pk = degree_distribution(G)\n",
    "    M = sum((k**m)*Pk)\n",
    "    return M\n",
    "\n",
    "def shannon_entropy(G):\n",
    "    k,Pk = degree_distribution(G)\n",
    "    H = 0\n",
    "    for p in Pk:\n",
    "        if(p > 0):\n",
    "            H = H - p*math.log(p, 2)\n",
    "    return H"
   ]
  },
  {
   "cell_type": "markdown",
   "metadata": {},
   "source": [
    "### 1) Calcule a média do coeficiente aglomeração e segundo momento do grau para uma rede BA com grau médio igual a 8 e N=1000."
   ]
  },
  {
   "cell_type": "code",
   "execution_count": 30,
   "metadata": {},
   "outputs": [
    {
     "name": "stdout",
     "output_type": "stream",
     "text": [
      "Média do coeficiente aglomeração: 0.0362242944276952\n",
      "Segundo momento do grau: 138.144\n"
     ]
    }
   ],
   "source": [
    "N = 1000 \n",
    "av_degree = 8\n",
    "m = int(av_degree/2)\n",
    "GBA = nx.barabasi_albert_graph(N, m)\n",
    "\n",
    "k2 = momment_of_degree_distribution(GBA, 2)\n",
    "# print(k2)\n",
    "avc = nx.average_clustering(GBA)\n",
    "# print(avc)\n",
    "\n",
    "print(f'Média do coeficiente aglomeração: {avc}')\n",
    "print(f'Segundo momento do grau: {k2}')"
   ]
  },
  {
   "cell_type": "markdown",
   "metadata": {},
   "source": [
    "### 2) Considere uma rede aleatória (Erdos-Renyi) e uma rede BA com N=1000 vértices e grau médio 10. Qual o valor da entropia de Shannon da distribuição do grau para essas redes?"
   ]
  },
  {
   "cell_type": "code",
   "execution_count": 8,
   "metadata": {},
   "outputs": [],
   "source": [
    "N = 1000 \n",
    "av_degree = 10\n",
    "p = av_degree/(N-1) \n",
    "m = int(av_degree/2)\n",
    "GBA = nx.barabasi_albert_graph(N, m)\n",
    "GER = nx.gnp_random_graph(N, p, seed=42, directed = False)"
   ]
  },
  {
   "cell_type": "code",
   "execution_count": 29,
   "metadata": {},
   "outputs": [
    {
     "name": "stdout",
     "output_type": "stream",
     "text": [
      "Shannon entropy for BA Network: 3.5752912442894815\n",
      "Shannon entropy for Erdos Renyi Network: 3.6379483175410465\n"
     ]
    }
   ],
   "source": [
    "shannon_gba = shannon_entropy(GBA)\n",
    "shannon_ger = shannon_entropy(GER)\n",
    "# print(shannon_gba)\n",
    "# print(shannon_ger)\n",
    "\n",
    "print(f'Shannon entropy for BA Network: {shannon_gba}')\n",
    "print(f'Shannon entropy for Erdos Renyi Network: {shannon_ger}')"
   ]
  },
  {
   "cell_type": "markdown",
   "metadata": {},
   "source": [
    "### 3) Considere o modelo de Barabási-Albert com N=1000 e grau médio igual a 10. Calcule o coeficiente de correlação de Pearson (rho) entre o grau e a medida eigenvector centrality. O que esse valor indica?"
   ]
  },
  {
   "cell_type": "code",
   "execution_count": 31,
   "metadata": {},
   "outputs": [],
   "source": [
    "N = 1000 \n",
    "av_degree = 10\n",
    "m = int(av_degree/2)\n",
    "GBA = nx.barabasi_albert_graph(N, m)"
   ]
  },
  {
   "cell_type": "code",
   "execution_count": 32,
   "metadata": {},
   "outputs": [
    {
     "name": "stdout",
     "output_type": "stream",
     "text": [
      "Pearson correlation entre grau e medida eigenvector centrality: 0.9409079966700954\n"
     ]
    }
   ],
   "source": [
    "EC = dict(nx.eigenvector_centrality(GBA, max_iter = 1000))\n",
    "# print('Eigenvetor centrality: ', EC)\n",
    "EC = list(EC.values())\n",
    "# print(EC)\n",
    "av_EC = np.mean(EC)\n",
    "# print('Average eigenvector centrality', av_EC)\n",
    "\n",
    "d = dict(GBA.degree())\n",
    "dv = list(d.values())\n",
    "\n",
    "\n",
    "pearson=np.corrcoef(EC , dv)[0,1]\n",
    "print(f'Pearson correlation entre grau e medida eigenvector centrality: {pearson}')"
   ]
  },
  {
   "cell_type": "markdown",
   "metadata": {},
   "source": [
    "### 4) Calcule a correlação entre a medida betweeness centrality e o grau para uma rede BA. Considere N=500 e grau médio 10."
   ]
  },
  {
   "cell_type": "code",
   "execution_count": 33,
   "metadata": {},
   "outputs": [],
   "source": [
    "N = 500 \n",
    "av_degree = 10\n",
    "m = int(av_degree/2)\n",
    "GBA = nx.barabasi_albert_graph(N, m)"
   ]
  },
  {
   "cell_type": "code",
   "execution_count": 34,
   "metadata": {},
   "outputs": [
    {
     "name": "stdout",
     "output_type": "stream",
     "text": [
      "Pearson correlation entre betweeness centrality e grau: 0.9538689897365547\n"
     ]
    }
   ],
   "source": [
    "B = dict(nx.betweenness_centrality(GBA))\n",
    "Bv = list(B.values())\n",
    "d = dict(GBA.degree())\n",
    "dv = list(d.values())\n",
    "\n",
    "pearson=np.corrcoef(Bv , dv)[0,1]\n",
    "print(f'Pearson correlation entre betweeness centrality e grau: {pearson}')"
   ]
  },
  {
   "cell_type": "markdown",
   "metadata": {},
   "source": [
    "### 5) Calcule o segundo momento do grau para o modelo de configuração com a=3 (coeficiente da lei de potência (Zipf)). Considere N=500 e o valor mais próximo, pois os valores podem variar de uma simulação para outra."
   ]
  },
  {
   "cell_type": "code",
   "execution_count": 55,
   "metadata": {},
   "outputs": [
    {
     "data": {
      "image/png": "[encoded data removed]",
      "text/plain": [
       "<Figure size 432x288 with 1 Axes>"
      ]
     },
     "metadata": {},
     "output_type": "display_data"
    }
   ],
   "source": [
    "N = 500\n",
    "a = 3\n",
    "seq = np.random.zipf(a, N) #Zipf distribution\n",
    "#seq = np.random.poisson(10, N) #Poisson distribution\n",
    "#print(seq)\n",
    "\n",
    "if(sum(seq)%2 != 0): # the sum of stubs have to be even\n",
    "    pos = randint(0, len(seq))\n",
    "    seq[pos] = seq[pos]+ 1\n",
    "#print(sum(seq))\n",
    "\n",
    "G=nx.configuration_model(seq)\n",
    "#get the largest component\n",
    "\n",
    "Gcc = sorted(nx.connected_components(G), key=len, reverse=True)\n",
    "G = G.subgraph(Gcc[0])\n",
    "d = dict(G.degree())\n",
    "nx.draw(G, nodelist=d.keys(), node_size=[v * 5 for v in d.values()])\n",
    "plt.show()"
   ]
  },
  {
   "cell_type": "code",
   "execution_count": 56,
   "metadata": {},
   "outputs": [
    {
     "name": "stdout",
     "output_type": "stream",
     "text": [
      "Segundo momento do grau: 11.284403669724771\n"
     ]
    }
   ],
   "source": [
    "k2 = momment_of_degree_distribution(G, 2)\n",
    "# print(k2)\n",
    "print(f'Segundo momento do grau: {k2}')"
   ]
  }
 ],
 "metadata": {
  "kernelspec": {
   "display_name": "Python 3",
   "language": "python",
   "name": "python3"
  },
  "language_info": {
   "codemirror_mode": {
    "name": "ipython",
    "version": 3
   },
   "file_extension": ".py",
   "mimetype": "text/x-python",
   "name": "python",
   "nbconvert_exporter": "python",
   "pygments_lexer": "ipython3",
   "version": "3.7.6"
  }
 },
 "nbformat": 4,
 "nbformat_minor": 4
}
