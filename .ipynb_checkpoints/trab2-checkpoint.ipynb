{
 "cells": [
  {
   "cell_type": "markdown",
   "metadata": {},
   "source": [
    "#### Nome: Aimê Gomes da Nobrega (nro USP 11882429)\n",
    "#### Disciplina: Redes Complexas "
   ]
  },
  {
   "cell_type": "code",
   "execution_count": 2,
   "metadata": {},
   "outputs": [],
   "source": [
    "from numpy import *\n",
    "import numpy as np\n",
    "import matplotlib.pyplot as plt\n",
    "import networkx as nx"
   ]
  },
  {
   "cell_type": "code",
   "execution_count": 3,
   "metadata": {},
   "outputs": [],
   "source": [
    "from scipy.stats import pearsonr"
   ]
  },
  {
   "cell_type": "code",
   "execution_count": 4,
   "metadata": {},
   "outputs": [],
   "source": [
    "def distribution_shortest_path(G): \n",
    "    sv = [] ##shortest value\n",
    "    for i in nx.shortest_path_length(G):\n",
    "        values = np.array(list(dict(i[1]).values()))\n",
    "        \n",
    "#         print(values)\n",
    "        for j in values[1:]:\n",
    "            sv.append(j)\n",
    "    maxk = np.max(sv)\n",
    "    mink = np.min(sv)\n",
    "    kvalues = np.arange(0, maxk+1) ## range de valores possíveis de k (tipo range()) ##intervalo (min, max)\n",
    "    Pk = np.zeros(maxk +1) ##vetor, q é uma lista sem vírgula\n",
    "    for k in sv:\n",
    "        Pk[k] = Pk[k] + 1\n",
    "    Pk = Pk/sum(Pk) ### sum(Pk) == 1\n",
    "    return kvalues, Pk  \n",
    "\n",
    "def shannon_entropy_short(G):\n",
    "    k,Pk = distribution_shortest_path(G)\n",
    "    H = 0\n",
    "    for p in Pk:\n",
    "        if(p > 0):\n",
    "            H = H - p*math.log(p, 2)\n",
    "    return H"
   ]
  },
  {
   "cell_type": "code",
   "execution_count": 5,
   "metadata": {},
   "outputs": [],
   "source": [
    "def clean_graph(G, remove_edges = True):\n",
    "    \n",
    "    G = G.to_undirected()\n",
    "    \n",
    "    if remove_edges:\n",
    "        \n",
    "        G.remove_edges_from(nx.selfloop_edges(G))\n",
    "    \n",
    "    G_cc = sorted(nx.connected_components(G), key = len, reverse =True)\n",
    "    G = G.subgraph(G_cc[0])\n",
    "    G = nx.convert_node_labels_to_integers(G, first_label = 0 )\n",
    "    \n",
    "    return G\n",
    "\n",
    "def knnk(G):\n",
    "    knnk_G = []\n",
    "    ks_G = []\n",
    "    knn_G = knn(G)\n",
    "    vk = np.array(list(dict(G.degree).values()))\n",
    "    \n",
    "    for k in np.arange(vk.min(), vk.max()):\n",
    "        aux = vk == k\n",
    "        if len(knn_G[aux]) > 0 :\n",
    "            average_knn = knn_G[aux].mean()\n",
    "            knnk_G.append(average_knn)\n",
    "            ks_G.append(k)\n",
    "            \n",
    "    return ks_G, knnk_G\n",
    "\n",
    "def knn(G):\n",
    "    knn_G = np.zeros(len(G.nodes), dtype = float)\n",
    "    for i in G.nodes:\n",
    "        aux = nx.average_neighbor_degree(G, nodes = [i])\n",
    "        knn_G[i] = float(aux[i])\n",
    "\n",
    "    return knn_G"
   ]
  },
  {
   "cell_type": "markdown",
   "metadata": {},
   "source": [
    "### 1.Para a rede “Hamsterster”, calcule a média dos menores caminhos e o diâmetro. Use apenas o maior componente da rede e remova ciclos ou auto-conexões."
   ]
  },
  {
   "cell_type": "code",
   "execution_count": 6,
   "metadata": {},
   "outputs": [],
   "source": [
    "G_hams = clean_graph(nx.read_edgelist('/home/aime/Documents/redes_complexas/ex_2/data/hamsterster.txt', nodetype = int))"
   ]
  },
  {
   "cell_type": "code",
   "execution_count": 7,
   "metadata": {},
   "outputs": [
    {
     "name": "stdout",
     "output_type": "stream",
     "text": [
      "Average shortest path lenght of Hamsterster Network:  3.4526\n",
      "Hamsterster Network diameter:  14\n"
     ]
    }
   ],
   "source": [
    "if nx.is_connected(G_hams) == True:\n",
    "    l = nx.average_shortest_path_length(G_hams)\n",
    "    print('Average shortest path lenght of Hamsterster Network: ', '%3.4f'%l)\n",
    "else:\n",
    "    print('The graph has more than one connected component')\n",
    "\n",
    "d = nx.diameter(G_hams)\n",
    "print('Hamsterster Network diameter: ', d)"
   ]
  },
  {
   "cell_type": "markdown",
   "metadata": {},
   "source": [
    "### 2.Considere a rede “USairport500”e calculea média e variância dos menores caminhos. Use apenas o maior componente da rede e remova ciclos ou auto-conexões.\n"
   ]
  },
  {
   "cell_type": "code",
   "execution_count": 8,
   "metadata": {},
   "outputs": [],
   "source": [
    "G_US = clean_graph(nx.read_edgelist('ex_2/data/USairport500.txt', nodetype = int))"
   ]
  },
  {
   "cell_type": "code",
   "execution_count": 9,
   "metadata": {
    "tags": []
   },
   "outputs": [
    {
     "name": "stdout",
     "output_type": "stream",
     "text": [
      "Média dos menores caminhos da rede USairport500:  3.0\n",
      "Variância dos menores caminhos da rede USairport500:  1.0\n"
     ]
    }
   ],
   "source": [
    "sv = [] ##shortest value\n",
    "for i in nx.shortest_path_length(G_US):\n",
    "    values = np.array(list(dict(i[1]).values()))\n",
    "\n",
    "#         print(values)\n",
    "    for j in values[1:]:\n",
    "        sv.append(j)\n",
    "\n",
    "N = len(G_US)\n",
    "\n",
    "sv = np.array(sv)\n",
    "mean_sv = sv.sum()/(N*(N-1))\n",
    "\n",
    "var = sum((sv - mean_sv)**2)/(N*(N-1))\n",
    "var == sv.var()\n",
    "print('Média dos menores caminhos da rede USairport500: ',round(mean_sv))\n",
    "print('Variância dos menores caminhos da rede USairport500: ',round(var))"
   ]
  },
  {
   "cell_type": "markdown",
   "metadata": {},
   "source": [
    "### 3.Para a rede “USairport500”, calcule a entropia de Shannon da distribuiçãodos menores caminhos. Use logaritmo na base 2 e considere apenas o maior componente da rede."
   ]
  },
  {
   "cell_type": "code",
   "execution_count": 10,
   "metadata": {},
   "outputs": [
    {
     "name": "stdout",
     "output_type": "stream",
     "text": [
      "Entropia de Shannon da distribuiçãodos menores caminhos da rede USairport500:  1.883667007854659\n"
     ]
    }
   ],
   "source": [
    "shannon_US = shannon_entropy_short(G_US)\n",
    "\n",
    "print('Entropia de Shannon da distribuiçãodos menores caminhos da rede USairport500: ', shannon_US)"
   ]
  },
  {
   "cell_type": "markdown",
   "metadata": {},
   "source": [
    "### 4.Calcule o coeficiente de assortatividade da rede Advogato. Considere apenas o maior componente.\n"
   ]
  },
  {
   "cell_type": "code",
   "execution_count": 11,
   "metadata": {},
   "outputs": [],
   "source": [
    "G_adv = clean_graph(nx.read_edgelist('ex_2/data/advogato.txt'), remove_edges = False)"
   ]
  },
  {
   "cell_type": "code",
   "execution_count": 12,
   "metadata": {},
   "outputs": [
    {
     "name": "stdout",
     "output_type": "stream",
     "text": [
      "Coeficiente de assortatividade da rede Advogato =  -0.0846\n"
     ]
    }
   ],
   "source": [
    "r = nx.degree_assortativity_coefficient(G_adv)\n",
    "print('Coeficiente de assortatividade da rede Advogato = ', '%3.4f'%r)"
   ]
  },
  {
   "cell_type": "markdown",
   "metadata": {},
   "source": [
    "### 5.Calcule o coeficiente de correlação de Pearson entre o grau médio dos vizinhos e o grau de cada vértice para a rede “word_adjacencies”. Isto é, entre k e knn(k). Use apenas o maior componente.Considere o exemplo da aula. "
   ]
  },
  {
   "cell_type": "code",
   "execution_count": 13,
   "metadata": {},
   "outputs": [],
   "source": [
    "G_wa = clean_graph(nx.read_edgelist('/home/aime/Documents/redes_complexas/ex_2/data/word_adjacencies.txt', nodetype = int))"
   ]
  },
  {
   "cell_type": "code",
   "execution_count": 14,
   "metadata": {},
   "outputs": [
    {
     "name": "stdout",
     "output_type": "stream",
     "text": [
      "[1, 2, 3, 4, 5, 6, 7, 8, 9, 10, 11, 12, 13, 14, 15, 17, 21, 28, 33]\n",
      "Pearson correlation: -0.6753041480047248\n"
     ]
    }
   ],
   "source": [
    "wa_k, wa_Pk = knnk(G_wa)\n",
    "pearson_ksknnk = np.corrcoef(wa_k, wa_Pk)[0, 1]\n",
    "\n",
    "print(wa_k)\n",
    "\n",
    "print(f'Pearson correlation: {pearson_ksknnk}')"
   ]
  }
 ],
 "metadata": {
  "kernelspec": {
   "display_name": "Python 3.7.6 64-bit ('base': conda)",
   "language": "python",
   "name": "python376jvsc74a57bd097aa173f3d7cb6cbd06fd9440db227aa78877e700955a422baf122d22ccfb49a"
  },
  "language_info": {
   "codemirror_mode": {
    "name": "ipython",
    "version": 3
   },
   "file_extension": ".py",
   "mimetype": "text/x-python",
   "name": "python",
   "nbconvert_exporter": "python",
   "pygments_lexer": "ipython3",
   "version": "3.7.6"
  },
  "metadata": {
   "interpreter": {
    "hash": "97aa173f3d7cb6cbd06fd9440db227aa78877e700955a422baf122d22ccfb49a"
   }
  }
 },
 "nbformat": 4,
 "nbformat_minor": 4
}
