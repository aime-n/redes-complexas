{
 "cells": [
  {
   "cell_type": "markdown",
   "metadata": {},
   "source": [
    "# Lista 3: Centralidade\n",
    "Nome (Nro. USP): Aimê G. da Nobrega (11882429)<br>\n",
    "Disciplina: Redes Complexas (SME0130)<br>\n",
    "Docente: Francisco A. Rodrigues<br>\n",
    "USP São Carlos - ICMC"
   ]
  },
  {
   "cell_type": "markdown",
   "metadata": {},
   "source": [
    "### 1) A média da medida eigenvector centrality da rede USairport500 é igual a quanto? Considere apenas o maior componente."
   ]
  },
  {
   "cell_type": "code",
   "execution_count": 2,
   "metadata": {},
   "outputs": [],
   "source": [
    "import networkx as nx\n",
    "from numpy import *\n",
    "import numpy as np\n",
    "np.random.seed(100)\n",
    "import matplotlib.pyplot as plt\n",
    "import pandas as pd\n",
    "from scipy import stats"
   ]
  },
  {
   "cell_type": "code",
   "execution_count": 5,
   "metadata": {},
   "outputs": [
    {
     "name": "stdout",
     "output_type": "stream",
     "text": [
      "Average eigenvector centrality 0.022754398239423695\n"
     ]
    }
   ],
   "source": [
    "def read_grafo(endereco):\n",
    "    G = nx.read_edgelist(endereco, nodetype = int, data = (('weight', float),))\n",
    "    G = G.to_undirected()\n",
    "    G.remove_edges_from(nx.selfloop_edges(G))\n",
    "    Gcc = sorted(nx.connected_components(G), key = len, reverse = True)\n",
    "    G = G.subgraph(Gcc[0])\n",
    "    G = nx.convert_node_labels_to_integers(G, first_label = 0)\n",
    "    return G\n",
    "\n",
    "G = read_grafo('ex_2/data/USairport500.txt')\n",
    "\n",
    "EC = dict(nx.eigenvector_centrality(G, max_iter = 1000))\n",
    "# print('Eigenvetor centrality: ', EC)\n",
    "EC = list(EC.values())\n",
    "# print(EC)\n",
    "av_EC = np.mean(EC)\n",
    "print('Average eigenvector centrality', av_EC)"
   ]
  },
  {
   "cell_type": "markdown",
   "metadata": {},
   "source": [
    "### 2) Calcule a correlação de Pearson entre a medida betweeness centrality e grau para a rede hamsterster."
   ]
  },
  {
   "cell_type": "code",
   "execution_count": 32,
   "metadata": {},
   "outputs": [
    {
     "name": "stdout",
     "output_type": "stream",
     "text": [
      "Pearson correlation: 0.8242435188731515\n"
     ]
    }
   ],
   "source": [
    "G = read_grafo('ex_2/data/hamsterster.txt')\n",
    "B = dict(nx.betweenness_centrality(G))\n",
    "Bv = list(B.values())\n",
    "d = dict(G.degree())\n",
    "dv = list(d.values())\n",
    "\n",
    "pearson=np.corrcoef(Bv , dv)[0,1]\n",
    "print(f'Pearson correlation: {pearson}')"
   ]
  },
  {
   "cell_type": "markdown",
   "metadata": {},
   "source": [
    "### 3) Calcule o coeficiente de correlação de Spearman entre as medidas closeness centrality e k-core para a rede \"Jazz\".\n"
   ]
  },
  {
   "cell_type": "code",
   "execution_count": 8,
   "metadata": {},
   "outputs": [],
   "source": [
    "G = read_grafo('ex_2/data/jazz.txt')"
   ]
  },
  {
   "cell_type": "code",
   "execution_count": 11,
   "metadata": {},
   "outputs": [
    {
     "data": {
      "text/plain": [
       "SpearmanrResult(correlation=0.7353399833516918, pvalue=5.889403279320568e-35)"
      ]
     },
     "execution_count": 11,
     "metadata": {},
     "output_type": "execute_result"
    }
   ],
   "source": [
    "clc = np.array(list(dict(nx.closeness_centrality(G)).values()))\n",
    "kc = np.array(list(dict(nx.core_number(G)).values()))\n",
    "\n",
    "\n",
    "s = stats.spearmanr(clc, kc)\n",
    "s"
   ]
  }
 ],
 "metadata": {
  "kernelspec": {
   "display_name": "Python 3.7.6 64-bit ('base': conda)",
   "language": "python",
   "name": "python376jvsc74a57bd097aa173f3d7cb6cbd06fd9440db227aa78877e700955a422baf122d22ccfb49a"
  },
  "language_info": {
   "codemirror_mode": {
    "name": "ipython",
    "version": 3
   },
   "file_extension": ".py",
   "mimetype": "text/x-python",
   "name": "python",
   "nbconvert_exporter": "python",
   "pygments_lexer": "ipython3",
   "version": "3.7.6"
  }
 },
 "nbformat": 4,
 "nbformat_minor": 4
}
