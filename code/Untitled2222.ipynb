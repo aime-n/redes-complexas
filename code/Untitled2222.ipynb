{
 "cells": [
  {
   "cell_type": "markdown",
   "metadata": {},
   "source": [
    "# **Graph Convolutional Network**"
   ]
  },
  {
   "cell_type": "markdown",
   "metadata": {},
   "source": [
    "## **A First Approch**"
   ]
  },
  {
   "cell_type": "code",
   "execution_count": 215,
   "metadata": {},
   "outputs": [],
   "source": [
    "from networkx import karate_club_graph, to_numpy_matrix\n",
    "import numpy as np\n",
    "import matplotlib.pyplot as plt"
   ]
  },
  {
   "cell_type": "code",
   "execution_count": 216,
   "metadata": {},
   "outputs": [],
   "source": [
    "kcg = karate_club_graph()"
   ]
  },
  {
   "cell_type": "code",
   "execution_count": 217,
   "metadata": {},
   "outputs": [],
   "source": [
    "order = sorted(list(kcg.nodes()))"
   ]
  },
  {
   "cell_type": "code",
   "execution_count": 218,
   "metadata": {},
   "outputs": [],
   "source": [
    "adj = to_numpy_matrix(kcg, nodelist = order)\n",
    "I = np.eye(kcg.number_of_nodes())"
   ]
  },
  {
   "cell_type": "code",
   "execution_count": 219,
   "metadata": {},
   "outputs": [],
   "source": [
    "A_hat = adj + I\n",
    "D_hat = np.array(A_hat.sum(axis= 0))[0]\n",
    "D_hat = np.matrix(np.diag(D_hat))"
   ]
  },
  {
   "cell_type": "code",
   "execution_count": 220,
   "metadata": {},
   "outputs": [],
   "source": [
    "def gcn_layer(A_hat,D_hat, X, W):\n",
    "    \n",
    "    convolution = D_hat**(-1)*A_hat*X*W\n",
    "    \n",
    "    return np.maximum(convolution, 0)"
   ]
  },
  {
   "cell_type": "code",
   "execution_count": 221,
   "metadata": {},
   "outputs": [],
   "source": [
    "rng = np.random.RandomState(0)\n",
    "\n",
    "W_1 = rng.normal(\n",
    "    loc = 0,\n",
    "    scale = 1,\n",
    "    size = (kcg.number_of_nodes(), 4)\n",
    ")\n",
    "\n",
    "W_2 = rng.normal(\n",
    "    loc=0, \n",
    "    size=(W_1.shape[1], 2)\n",
    ")"
   ]
  },
  {
   "cell_type": "code",
   "execution_count": 222,
   "metadata": {},
   "outputs": [
    {
     "data": {
      "text/plain": [
       "array([[ 1.76405235,  0.40015721,  0.97873798,  2.2408932 ],\n",
       "       [ 1.86755799, -0.97727788,  0.95008842, -0.15135721],\n",
       "       [-0.10321885,  0.4105985 ,  0.14404357,  1.45427351],\n",
       "       [ 0.76103773,  0.12167502,  0.44386323,  0.33367433],\n",
       "       [ 1.49407907, -0.20515826,  0.3130677 , -0.85409574],\n",
       "       [-2.55298982,  0.6536186 ,  0.8644362 , -0.74216502],\n",
       "       [ 2.26975462, -1.45436567,  0.04575852, -0.18718385],\n",
       "       [ 1.53277921,  1.46935877,  0.15494743,  0.37816252],\n",
       "       [-0.88778575, -1.98079647, -0.34791215,  0.15634897],\n",
       "       [ 1.23029068,  1.20237985, -0.38732682, -0.30230275],\n",
       "       [-1.04855297, -1.42001794, -1.70627019,  1.9507754 ],\n",
       "       [-0.50965218, -0.4380743 , -1.25279536,  0.77749036],\n",
       "       [-1.61389785, -0.21274028, -0.89546656,  0.3869025 ],\n",
       "       [-0.51080514, -1.18063218, -0.02818223,  0.42833187],\n",
       "       [ 0.06651722,  0.3024719 , -0.63432209, -0.36274117],\n",
       "       [-0.67246045, -0.35955316, -0.81314628, -1.7262826 ],\n",
       "       [ 0.17742614, -0.40178094, -1.63019835,  0.46278226],\n",
       "       [-0.90729836,  0.0519454 ,  0.72909056,  0.12898291],\n",
       "       [ 1.13940068, -1.23482582,  0.40234164, -0.68481009],\n",
       "       [-0.87079715, -0.57884966, -0.31155253,  0.05616534],\n",
       "       [-1.16514984,  0.90082649,  0.46566244, -1.53624369],\n",
       "       [ 1.48825219,  1.89588918,  1.17877957, -0.17992484],\n",
       "       [-1.07075262,  1.05445173, -0.40317695,  1.22244507],\n",
       "       [ 0.20827498,  0.97663904,  0.3563664 ,  0.70657317],\n",
       "       [ 0.01050002,  1.78587049,  0.12691209,  0.40198936],\n",
       "       [ 1.8831507 , -1.34775906, -1.270485  ,  0.96939671],\n",
       "       [-1.17312341,  1.94362119, -0.41361898, -0.74745481],\n",
       "       [ 1.92294203,  1.48051479,  1.86755896,  0.90604466],\n",
       "       [-0.86122569,  1.91006495, -0.26800337,  0.8024564 ],\n",
       "       [ 0.94725197, -0.15501009,  0.61407937,  0.92220667],\n",
       "       [ 0.37642553, -1.09940079,  0.29823817,  1.3263859 ],\n",
       "       [-0.69456786, -0.14963454, -0.43515355,  1.84926373],\n",
       "       [ 0.67229476,  0.40746184, -0.76991607,  0.53924919],\n",
       "       [-0.67433266,  0.03183056, -0.63584608,  0.67643329]])"
      ]
     },
     "execution_count": 222,
     "metadata": {},
     "output_type": "execute_result"
    }
   ],
   "source": [
    "W_1"
   ]
  },
  {
   "cell_type": "code",
   "execution_count": 223,
   "metadata": {},
   "outputs": [
    {
     "data": {
      "text/plain": [
       "array([[ 0.57659082, -0.20829876],\n",
       "       [ 0.39600671, -1.09306151],\n",
       "       [-1.49125759,  0.4393917 ],\n",
       "       [ 0.1666735 ,  0.63503144]])"
      ]
     },
     "execution_count": 223,
     "metadata": {},
     "output_type": "execute_result"
    }
   ],
   "source": [
    "W_2"
   ]
  },
  {
   "cell_type": "code",
   "execution_count": 224,
   "metadata": {},
   "outputs": [],
   "source": [
    "H_1 = gcn_layer(A_hat, D_hat, I, W_1)\n",
    "H_2 = gcn_layer(A_hat, D_hat, H_1, W_2)\n",
    "\n",
    "output = H_2"
   ]
  },
  {
   "cell_type": "code",
   "execution_count": 226,
   "metadata": {},
   "outputs": [
    {
     "data": {
      "text/plain": [
       "(34, 4)"
      ]
     },
     "execution_count": 226,
     "metadata": {},
     "output_type": "execute_result"
    }
   ],
   "source": [
    "H_1.shape"
   ]
  },
  {
   "cell_type": "code",
   "execution_count": 227,
   "metadata": {},
   "outputs": [
    {
     "data": {
      "text/plain": [
       "(34, 2)"
      ]
     },
     "execution_count": 227,
     "metadata": {},
     "output_type": "execute_result"
    }
   ],
   "source": [
    "H_2.shape"
   ]
  },
  {
   "cell_type": "code",
   "execution_count": 207,
   "metadata": {},
   "outputs": [],
   "source": [
    "feature_representations = np.array([ np.array(output)[node] for node in kcg.nodes()])"
   ]
  },
  {
   "cell_type": "code",
   "execution_count": 208,
   "metadata": {},
   "outputs": [],
   "source": [
    "labels = []\n",
    "\n",
    "for i in np.arange(len(kcg.nodes)):\n",
    "    \n",
    "    label = kcg.nodes()[i]['club']\n",
    "    \n",
    "    if 'Mr. Hi' == label:\n",
    "        labels.append(1)\n",
    "    else:\n",
    "        labels.append(0)"
   ]
  },
  {
   "cell_type": "code",
   "execution_count": 209,
   "metadata": {},
   "outputs": [],
   "source": [
    "def filters(labels):\n",
    "    \n",
    "    values = np.unique(labels)\n",
    "    \n",
    "    n = len(values)\n",
    "    \n",
    "    f = []\n",
    "    \n",
    "    for v in values:\n",
    "        \n",
    "        f.append(labels == v)\n",
    "    \n",
    "    return f, values"
   ]
  },
  {
   "cell_type": "code",
   "execution_count": 210,
   "metadata": {},
   "outputs": [],
   "source": [
    "flt, values = filters(np.array(labels))"
   ]
  },
  {
   "cell_type": "code",
   "execution_count": 211,
   "metadata": {},
   "outputs": [
    {
     "data": {
      "text/plain": [
       "<matplotlib.legend.Legend at 0x22f216b8f40>"
      ]
     },
     "execution_count": 211,
     "metadata": {},
     "output_type": "execute_result"
    },
    {
     "data": {
      "image/png": "[encoded data removed]",
      "text/plain": [
       "<Figure size 432x288 with 1 Axes>"
      ]
     },
     "metadata": {
      "needs_background": "light"
     },
     "output_type": "display_data"
    }
   ],
   "source": [
    "for f, v in zip(flt, values):\n",
    "    plt.plot(feature_representations[f][:, 0], feature_representations[f][:, 1], 'o', label = v)\n",
    "\n",
    "plt.legend()"
   ]
  },
  {
   "cell_type": "code",
   "execution_count": 214,
   "metadata": {},
   "outputs": [
    {
     "name": "stdout",
     "output_type": "stream",
     "text": [
      "Collecting mxnet\n",
      "  Downloading mxnet-1.7.0.post2-py2.py3-none-win_amd64.whl (33.1 MB)\n",
      "Collecting requests<2.19.0,>=2.18.4\n",
      "  Downloading requests-2.18.4-py2.py3-none-any.whl (88 kB)\n",
      "Collecting numpy<1.17.0,>=1.8.2\n",
      "  Downloading numpy-1.16.6.zip (5.1 MB)\n",
      "Collecting graphviz<0.9.0,>=0.8.1\n",
      "  Downloading graphviz-0.8.4-py2.py3-none-any.whl (16 kB)\n",
      "Collecting chardet<3.1.0,>=3.0.2\n",
      "  Downloading chardet-3.0.4-py2.py3-none-any.whl (133 kB)\n",
      "Collecting idna<2.7,>=2.5\n",
      "  Downloading idna-2.6-py2.py3-none-any.whl (56 kB)\n",
      "Collecting urllib3<1.23,>=1.21.1\n",
      "  Downloading urllib3-1.22-py2.py3-none-any.whl (132 kB)\n",
      "Requirement already satisfied: certifi>=2017.4.17 in c:\\programdata\\anaconda3\\lib\\site-packages (from requests<2.19.0,>=2.18.4->mxnet) (2020.12.5)\n",
      "Building wheels for collected packages: numpy\n",
      "  Building wheel for numpy (setup.py): started\n",
      "  Building wheel for numpy (setup.py): still running...\n",
      "  Building wheel for numpy (setup.py): finished with status 'done'\n",
      "  Created wheel for numpy: filename=numpy-1.16.6-cp38-cp38-win_amd64.whl size=3913813 sha256=65f18015749e1437d9f85afb90ee52dbd8367a9466609a8088b57580d1e8a3d6\n",
      "  Stored in directory: c:\\users\\giovanni\\appdata\\local\\pip\\cache\\wheels\\22\\6f\\a6\\069db0c95f9bb6b73e07da014891c58460fef1eb84f49576f0\n",
      "Successfully built numpy\n",
      "Installing collected packages: urllib3, idna, chardet, requests, numpy, graphviz, mxnet\n",
      "  Attempting uninstall: urllib3\n",
      "    Found existing installation: urllib3 1.26.4\n",
      "    Uninstalling urllib3-1.26.4:\n",
      "      Successfully uninstalled urllib3-1.26.4\n",
      "  Attempting uninstall: idna\n",
      "    Found existing installation: idna 2.10\n",
      "    Uninstalling idna-2.10:\n",
      "      Successfully uninstalled idna-2.10\n",
      "  Attempting uninstall: chardet\n",
      "    Found existing installation: chardet 4.0.0\n",
      "    Uninstalling chardet-4.0.0:\n",
      "      Successfully uninstalled chardet-4.0.0\n",
      "  Attempting uninstall: requests\n",
      "    Found existing installation: requests 2.25.1\n",
      "    Uninstalling requests-2.25.1:\n",
      "      Successfully uninstalled requests-2.25.1\n",
      "  Attempting uninstall: numpy\n",
      "    Found existing installation: numpy 1.21.0\n",
      "    Uninstalling numpy-1.21.0:\n",
      "      Successfully uninstalled numpy-1.21.0\n"
     ]
    },
    {
     "name": "stderr",
     "output_type": "stream",
     "text": [
      "ERROR: Could not install packages due to an OSError: [WinError 5] Acesso negado: 'C:\\\\ProgramData\\\\Anaconda3\\\\Lib\\\\site-packages\\\\~.mpy\\\\.libs\\\\libopenblas.GK7GX5KEQ4F6UYO3P26ULGBQYHGQO7J4.gfortran-win_amd64.dll'\n",
      "Consider using the `--user` option or check the permissions.\n",
      "\n"
     ]
    }
   ],
   "source": [
    "!pip install mxnet"
   ]
  },
  {
   "cell_type": "code",
   "execution_count": null,
   "metadata": {},
   "outputs": [],
   "source": []
  }
 ],
 "metadata": {
  "kernelspec": {
   "display_name": "Python 3",
   "language": "python",
   "name": "python3"
  },
  "language_info": {
   "codemirror_mode": {
    "name": "ipython",
    "version": 3
   },
   "file_extension": ".py",
   "mimetype": "text/x-python",
   "name": "python",
   "nbconvert_exporter": "python",
   "pygments_lexer": "ipython3",
   "version": "3.7.6"
  }
 },
 "nbformat": 4,
 "nbformat_minor": 5
}
