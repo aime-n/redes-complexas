{
 "cells": [
  {
   "cell_type": "markdown",
   "metadata": {},
   "source": [
    "# Grau e Transitividade\n",
    "Nome (Nro. USP): Aimê G. da Nobrega (11882429)<br>\n",
    "Disciplina: Redes Complexas (SME0130)<br>\n",
    "Docente: Francisco A. Rodrigues<br>\n",
    "USP São Carlos - ICMC"
   ]
  },
  {
   "cell_type": "code",
   "execution_count": 1,
   "metadata": {},
   "outputs": [],
   "source": [
    "from numpy import *\n",
    "import numpy as np\n",
    "import matplotlib.pyplot as plt\n",
    "import networkx as nx"
   ]
  },
  {
   "cell_type": "code",
   "execution_count": 15,
   "metadata": {},
   "outputs": [],
   "source": [
    "def degree_distribution(G):\n",
    "    vk = np.array(list(dict(G.degree()).values()))\n",
    "    maxk = np.max(vk)\n",
    "    mink = np.min(vk)\n",
    "    kvalues = np.arange(0, maxk + 1) ## arranjo de valores possíveis de k (tipo range())\n",
    "    Pk = np.zeros(maxk + 1)\n",
    "    for k in vk:\n",
    "        Pk[k] = Pk[k] + 1\n",
    "    Pk = Pk/sum(Pk) ### sum(Pk) == 1\n",
    "    return kvalues, Pk   \n",
    "\n",
    "def momment_of_degree_distribution(G, m):\n",
    "    k, Pk = degree_distribution(G)\n",
    "    M = sum((k**m)*Pk)\n",
    "    return M\n",
    "\n",
    "def coef_complexity(G):\n",
    "    k2 = momment_of_degree_distribution(G, 2)\n",
    "    k1 = momment_of_degree_distribution(G, 1)\n",
    "    return k2/k1\n",
    "\n",
    "def shannon_entropy(G):\n",
    "    k,Pk = degree_distribution(G)\n",
    "    H = 0\n",
    "    for p in Pk:\n",
    "        if(p > 0):\n",
    "            H = H - p*math.log(p, 2)\n",
    "    return H"
   ]
  },
  {
   "cell_type": "markdown",
   "metadata": {},
   "source": [
    "## Questão 1\n",
    "Para a base lesmis, calcule o terceiro e o quarto momentos da distribuição do grau."
   ]
  },
  {
   "cell_type": "code",
   "execution_count": 9,
   "metadata": {},
   "outputs": [
    {
     "name": "stdout",
     "output_type": "stream",
     "text": [
      "Terceiro momento: 1408.025974025974\n",
      "Quarto momento 33592.72727272728\n"
     ]
    }
   ],
   "source": [
    "lesmis = G= nx.read_edgelist(\"data/lesmis.txt\", nodetype=int, data=(('weight',float),))\n",
    "\n",
    "k3 = momment_of_degree_distribution(lesmis, 3)\n",
    "k4 = momment_of_degree_distribution(lesmis, 4)\n",
    "\n",
    "print('Terceiro momento:', k3)\n",
    "print('Quarto momento:', k4)"
   ]
  },
  {
   "cell_type": "markdown",
   "metadata": {},
   "source": [
    "## Questão 2\n",
    "Calcule o coeficiente de complexidade da power grid."
   ]
  },
  {
   "cell_type": "code",
   "execution_count": 12,
   "metadata": {},
   "outputs": [
    {
     "name": "stdout",
     "output_type": "stream",
     "text": [
      "Coeficiente de complexidade: 3.8712465878070974\n"
     ]
    }
   ],
   "source": [
    "power_grid = nx.read_edgelist(\"data/powergrid.txt\", nodetype=int, data=(('weight',float),))\n",
    "\n",
    "complexity_pg = coef_complexity(power_grid)\n",
    "\n",
    "print('Coeficiente de complexidade:', complexity_pg)"
   ]
  },
  {
   "cell_type": "markdown",
   "metadata": {},
   "source": [
    "## Questão 3\n",
    "Calcule a entropia de Shannon da rede Euro road."
   ]
  },
  {
   "cell_type": "code",
   "execution_count": 29,
   "metadata": {},
   "outputs": [
    {
     "name": "stdout",
     "output_type": "stream",
     "text": [
      "Entropia de Shannon: 2.0033103874527756\n"
     ]
    }
   ],
   "source": [
    "euro_road = nx.read_edgelist(\"data/euroroad.txt\", nodetype=int, data=(('weight',float),))\n",
    "\n",
    "shannon_euroroad = shannon_entropy(euro_road)\n",
    "\n",
    "print('Entropia de Shannon:', shannon_euroroad)"
   ]
  },
  {
   "cell_type": "markdown",
   "metadata": {},
   "source": [
    "## Questão 4\n",
    "Para a rede de aeroportos dos Estados Unidos, obtenha: <br>\n",
    "a) transitivity; <br>\n",
    "b) the average clustering coefficient."
   ]
  },
  {
   "cell_type": "code",
   "execution_count": 24,
   "metadata": {},
   "outputs": [
    {
     "name": "stdout",
     "output_type": "stream",
     "text": [
      "Transitivity: 0.38414344664491556\n",
      "The average clustering coefficient: 0.5041525392095769\n"
     ]
    }
   ],
   "source": [
    "usairport = nx.read_edgelist(\"data/usairport.txt\", nodetype=int, data=(('weight',float),))\n",
    "\n",
    "tr = nx.transitivity(usairport)\n",
    "print('Transitivity:', tr)\n",
    "\n",
    "acc = nx.average_clustering(usairport)\n",
    "print('The average clustering coefficient:', acc)"
   ]
  },
  {
   "cell_type": "markdown",
   "metadata": {},
   "source": [
    "## Questão 5\n",
    "Calcule o coeficiente de complexidade e a entropia de Shannon para a rede US airport."
   ]
  },
  {
   "cell_type": "code",
   "execution_count": 28,
   "metadata": {},
   "outputs": [
    {
     "name": "stdout",
     "output_type": "stream",
     "text": [
      "Coeficiente de complexidade: 112.22224803950044\n",
      "Entropia de Shannon: 4.985977646539227\n"
     ]
    }
   ],
   "source": [
    "## usairport\n",
    "\n",
    "complexity_us = coef_complexity(usairport)\n",
    "print('Coeficiente de complexidade:', complexity_us)\n",
    "\n",
    "shannon_airport = shannon_entropy(usairport)\n",
    "\n",
    "print('Entropia de Shannon:', shannon_airport)"
   ]
  }
 ],
 "metadata": {
  "kernelspec": {
   "display_name": "Python 3",
   "language": "python",
   "name": "python3"
  },
  "language_info": {
   "codemirror_mode": {
    "name": "ipython",
    "version": 3
   },
   "file_extension": ".py",
   "mimetype": "text/x-python",
   "name": "python",
   "nbconvert_exporter": "python",
   "pygments_lexer": "ipython3",
   "version": "3.7.6"
  }
 },
 "nbformat": 4,
 "nbformat_minor": 4
}
