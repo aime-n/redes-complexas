{
  "nbformat": 4,
  "nbformat_minor": 0,
  "metadata": {
    "colab": {
      "name": "classificacao.ipynb",
      "provenance": [],
      "toc_visible": true
    },
    "kernelspec": {
      "name": "python3",
      "display_name": "Python 3"
    },
    "language_info": {
      "name": "python"
    }
  },
  "cells": [
    {
      "cell_type": "code",
      "metadata": {
        "id": "X0cqgCXwmPZ1"
      },
      "source": [
        "import networkx as nx\n",
        "import matplotlib.pyplot as plt\n",
        "import numpy as np\n",
        "from community import community_louvain\n",
        "import pandas as pd"
      ],
      "execution_count": null,
      "outputs": []
    },
    {
      "cell_type": "markdown",
      "metadata": {
        "id": "Yg29P9y3JVWx"
      },
      "source": [
        "# Dados de treino"
      ]
    },
    {
      "cell_type": "code",
      "metadata": {
        "id": "qRUCOrGBT90z"
      },
      "source": [
        "def measures(G):\n",
        "    def momment_of_degree_distribution(G,m):\n",
        "        M = 0\n",
        "        N = len(G)\n",
        "        for i in G.nodes:\n",
        "            M = M + G.degree(i)**m\n",
        "        M = M/N\n",
        "        return M\n",
        "\n",
        "    N = len(G)\n",
        "    M = G.number_of_edges()\n",
        "    vk = dict(G.degree())\n",
        "    vk = list(vk.values())\n",
        "    vk = np.array(vk)\n",
        "    k1 = momment_of_degree_distribution(G,1)\n",
        "    k2 = momment_of_degree_distribution(G,2)\n",
        "    variance = momment_of_degree_distribution(G,2) - momment_of_degree_distribution(G,1)**2\n",
        "    av_cl = nx.average_clustering(G)\n",
        "    l = nx.average_shortest_path_length(G)\n",
        "    r=nx.degree_assortativity_coefficient(G)\n",
        "\n",
        "    CLC = dict(nx.closeness_centrality(G))\n",
        "    CLC = list(CLC.values())\n",
        "    av_clc = np.mean(CLC) # Average closeness centrality\n",
        "\n",
        "    B = dict(nx.betweenness_centrality(G))\n",
        "    B = list(B.values())\n",
        "    av_B = np.mean(B) #Average betweenness centrality\n",
        "\n",
        "    EC = dict(nx.eigenvector_centrality(G, max_iter = 1000))\n",
        "    EC = list(EC.values())\n",
        "    av_EC = np.mean(EC) #Average eigenvector centrality\n",
        "\n",
        "    PR = dict(nx.pagerank(G, alpha=0.85))\n",
        "    PR = list(PR.values())\n",
        "    av_pr = np.mean(PR) #Average PageRank\n",
        "\n",
        "    def modularity(G, c):\n",
        "        A = nx.adjacency_matrix(G)\n",
        "        N = len(G)\n",
        "        M = G.number_of_edges()\n",
        "        Q = 0\n",
        "        for i in np.arange(0,N):\n",
        "            ki = len(list(G.neighbors(i)))\n",
        "            for j in np.arange(0,N):\n",
        "                if(c[i]==c[j]):\n",
        "                    kj = len(list(G.neighbors(j)))\n",
        "                    Q = Q + A[i,j]-(ki*kj)/(2*M)\n",
        "        Q = Q/(2*M)\n",
        "        return Q\n",
        "    communities =list(community_louvain.best_partition(G).values())\n",
        "    mod_louvrain = modularity(G,communities) # modularidade usando método de Louvrain\n",
        "\n",
        "    return  k1,k2,variance,av_cl,l,r, av_clc, av_B, av_EC, av_pr, mod_louvrain"
      ],
      "execution_count": null,
      "outputs": []
    },
    {
      "cell_type": "code",
      "metadata": {
        "id": "Em0nVWEUT94N"
      },
      "source": [
        "cl = ['ER','WS','BA']\n",
        "#ER networks\n",
        "X = []\n",
        "y = []\n",
        "n_nets = 30\n",
        "av_degree = k1\n",
        "p = av_degree/(N-1)\n",
        "for i in range(0,n_nets):\n",
        "    GER = nx.gnp_random_graph(N, p, seed=None, directed=False)\n",
        "    Gcc = sorted(nx.connected_components(GER), key=len, reverse=True)\n",
        "    GER = GER.subgraph(Gcc[0])\n",
        "    GER = nx.convert_node_labels_to_integers(GER, first_label=0)\n",
        "    k1,k2,variance,av_cl,l,r, av_clc, av_B, av_EC, av_pr, mod_louvrain = measures(GER)\n",
        "    x = [k1,k2,variance,av_cl,l,r, av_clc, av_B, av_EC, av_pr, mod_louvrain]\n",
        "    X.append(x)\n",
        "    y.append(0.0)\n",
        "\n",
        "#WS networks\n",
        "k = int(av_degree)\n",
        "p = 0.1 #probability of rewiring\n",
        "for i in range(0,n_nets):\n",
        "    GWS = nx.watts_strogatz_graph(N, k, p, seed=None)\n",
        "    Gcc = sorted(nx.connected_components(GWS), key=len, reverse=True)\n",
        "    GWS = GWS.subgraph(Gcc[0])\n",
        "    GWS = nx.convert_node_labels_to_integers(GWS, first_label=0)\n",
        "    k1,k2,variance,av_cl,l,r, av_clc, av_B, av_EC, av_pr, mod_louvrain = measures(GWS)\n",
        "    x = [k1,k2,variance,av_cl,l,r, av_clc, av_B, av_EC, av_pr, mod_louvrain]\n",
        "    X.append(x)\n",
        "    y.append(1.0)\n",
        "\n",
        "# BA networks\n",
        "m = int(av_degree/2)\n",
        "for i in range(0,n_nets):\n",
        "    GBA = nx.barabasi_albert_graph(N, m)    \n",
        "    Gcc = sorted(nx.connected_components(GBA), key=len, reverse=True)\n",
        "    GBA = GBA.subgraph(Gcc[0])\n",
        "    GBA = nx.convert_node_labels_to_integers(GBA, first_label=0)\n",
        "    k1,k2,variance,av_cl,l,r, av_clc, av_B, av_EC, av_pr, mod_louvrain = measures(GWS)\n",
        "    x = [k1,k2,variance,av_cl,l,r, av_clc, av_B, av_EC, av_pr, mod_louvrain]\n",
        "    X.append(x)\n",
        "    y.append(2.0)"
      ],
      "execution_count": null,
      "outputs": []
    },
    {
      "cell_type": "code",
      "metadata": {
        "id": "7f1UMJC0T-F9"
      },
      "source": [
        "X = np.array(X)\n",
        "y = np.array(y)\n",
        "\n",
        "from sklearn.preprocessing import StandardScaler\n",
        "\n",
        "scaler = StandardScaler().fit(X)\n",
        "X = scaler.transform(X)"
      ],
      "execution_count": null,
      "outputs": []
    },
    {
      "cell_type": "code",
      "metadata": {
        "colab": {
          "base_uri": "https://localhost:8080/"
        },
        "id": "lbj2MtPSJ6h3",
        "outputId": "e6526e0e-7780-4ad1-9d0e-1b685bd24c95"
      },
      "source": [
        "from sklearn.neighbors import KNeighborsClassifier\n",
        "k = 5\n",
        "model = KNeighborsClassifier(n_neighbors=k, metric = 'euclidean')\n",
        "model.fit(X,y)\n",
        "\n",
        "from sklearn.ensemble import RandomForestClassifier\n",
        "\n",
        "model2 = RandomForestClassifier(random_state = 37)\n",
        "model2.fit(X,y)"
      ],
      "execution_count": null,
      "outputs": [
        {
          "output_type": "execute_result",
          "data": {
            "text/plain": [
              "RandomForestClassifier(bootstrap=True, ccp_alpha=0.0, class_weight=None,\n",
              "                       criterion='gini', max_depth=None, max_features='auto',\n",
              "                       max_leaf_nodes=None, max_samples=None,\n",
              "                       min_impurity_decrease=0.0, min_impurity_split=None,\n",
              "                       min_samples_leaf=1, min_samples_split=2,\n",
              "                       min_weight_fraction_leaf=0.0, n_estimators=100,\n",
              "                       n_jobs=None, oob_score=False, random_state=37, verbose=0,\n",
              "                       warm_start=False)"
            ]
          },
          "metadata": {
            "tags": []
          },
          "execution_count": 19
        }
      ]
    },
    {
      "cell_type": "markdown",
      "metadata": {
        "id": "r0X762UNGZUw"
      },
      "source": [
        "# Redes biológicas"
      ]
    },
    {
      "cell_type": "markdown",
      "metadata": {
        "id": "uAWlVvvGGgcN"
      },
      "source": [
        "## Rede 1"
      ]
    },
    {
      "cell_type": "code",
      "metadata": {
        "colab": {
          "base_uri": "https://localhost:8080/",
          "height": 353
        },
        "id": "AlLt4IaENrx9",
        "outputId": "9f1027db-346b-450d-87a2-e0c632dd8f03"
      },
      "source": [
        "G= nx.read_edgelist('/content/drive/Shareddrives/Redes_complexas/lesmis.txt', nodetype=int, data=(('weight',float),))\n",
        "G = G.to_undirected()\n",
        "G.remove_edges_from(nx.selfloop_edges(G))\n",
        "Gcc = sorted(nx.connected_components(G), key=len, reverse=True)\n",
        "G = G.subgraph(Gcc[0])\n",
        "G = nx.convert_node_labels_to_integers(G, first_label=0)\n",
        "N = len(G)\n",
        "M = G.number_of_edges()\n",
        "print('Number of nodes:', N)\n",
        "print('Number of edges:', M)\n",
        "\n",
        "pos = nx.spring_layout(G)\n",
        "nx.draw(G, pos, node_color=\"b\", node_size=50, with_labels=False)"
      ],
      "execution_count": null,
      "outputs": [
        {
          "output_type": "stream",
          "text": [
            "Number of nodes: 77\n",
            "Number of edges: 254\n"
          ],
          "name": "stdout"
        },
        {
          "output_type": "display_data",
          "data": {
            "image/png": "[encoded data removed]",
            "text/plain": [
              "<Figure size 432x288 with 1 Axes>"
            ]
          },
          "metadata": {
            "tags": []
          }
        }
      ]
    },
    {
      "cell_type": "code",
      "metadata": {
        "colab": {
          "base_uri": "https://localhost:8080/"
        },
        "id": "vgPNy4mVlOCk",
        "outputId": "21271cf4-157d-42e6-c734-eef723712a64"
      },
      "source": [
        "k1,k2,variance,av_cl,l,r, av_clc, av_B, av_EC, av_pr, mod_louvrain = measures(G)\n",
        "X_net = [k1,k2,variance,av_cl,l,r, av_clc, av_B, av_EC, av_pr, mod_louvrain]\n",
        "print(X_net)\n",
        "\n",
        "X_net = np.array(X_net)\n",
        "X_net = X_net.reshape(1,len(X_net)) \n",
        "X_net = scaler.transform(X_net)\n",
        "print('Xnet:', X_net.shape)"
      ],
      "execution_count": null,
      "outputs": [
        {
          "output_type": "stream",
          "text": [
            "[6.597402597402597, 79.53246753246754, 36.006746500252994, 0.5731367499320135, 2.6411483253588517, -0.16522513442236916, 0.3893412505666164, 0.021881977671451357, 0.07802991544392937, 0.012987012987012988, 0.5529558559117133]\n",
            "Xnet: (1, 11)\n"
          ],
          "name": "stdout"
        }
      ]
    },
    {
      "cell_type": "code",
      "metadata": {
        "colab": {
          "base_uri": "https://localhost:8080/"
        },
        "id": "wTvHXJw3UgpB",
        "outputId": "e0ca11a3-c1df-4e55-d7b0-738139c85101"
      },
      "source": [
        "y_pred = model.predict(X_net) \n",
        "print('Classe (k-nearest neighbors):', cl[int(y_pred)])"
      ],
      "execution_count": null,
      "outputs": [
        {
          "output_type": "stream",
          "text": [
            "Classe (k-nearest neighbors): ER\n"
          ],
          "name": "stdout"
        }
      ]
    },
    {
      "cell_type": "code",
      "metadata": {
        "colab": {
          "base_uri": "https://localhost:8080/"
        },
        "id": "RG8XAVs893LK",
        "outputId": "01c7417e-8597-4d93-97ca-8a904239fddd"
      },
      "source": [
        "y_pred = model2.predict(X_net) \n",
        "print('Classe (Random Forest):', cl[int(y_pred)])"
      ],
      "execution_count": null,
      "outputs": [
        {
          "output_type": "stream",
          "text": [
            "Classe (Random Forest): ER\n"
          ],
          "name": "stdout"
        }
      ]
    },
    {
      "cell_type": "markdown",
      "metadata": {
        "id": "Z5c8dJGqGl18"
      },
      "source": [
        "## Rede 2"
      ]
    },
    {
      "cell_type": "code",
      "metadata": {
        "id": "08uTC4H-CcBO"
      },
      "source": [
        "G= nx.read_edgelist('/content/drive/Shareddrives/Redes_complexas/lesmis.txt', nodetype=int, data=(('weight',float),))\n",
        "G = G.to_undirected()\n",
        "G.remove_edges_from(nx.selfloop_edges(G))\n",
        "Gcc = sorted(nx.connected_components(G), key=len, reverse=True)\n",
        "G = G.subgraph(Gcc[0])\n",
        "G = nx.convert_node_labels_to_integers(G, first_label=0)\n",
        "N = len(G)\n",
        "M = G.number_of_edges()\n",
        "print('Number of nodes:', N)\n",
        "print('Number of edges:', M)\n",
        "\n",
        "pos = nx.spring_layout(G)\n",
        "nx.draw(G, pos, node_color=\"b\", node_size=50, with_labels=False)"
      ],
      "execution_count": null,
      "outputs": []
    },
    {
      "cell_type": "code",
      "metadata": {
        "id": "ApHi3aJ3INRe"
      },
      "source": [
        "k1,k2,variance,av_cl,l,r, av_clc, av_B, av_EC, av_pr, mod_louvrain = measures(G)\n",
        "X_net = [k1,k2,variance,av_cl,l,r, av_clc, av_B, av_EC, av_pr, mod_louvrain]\n",
        "\n",
        "\n",
        "X_net = np.array(X_net)\n",
        "X_net = X_net.reshape(1,len(X_net)) \n",
        "X_net = scaler.transform(X_net)\n",
        "print('Xnet:', X_net.shape)"
      ],
      "execution_count": null,
      "outputs": []
    },
    {
      "cell_type": "code",
      "metadata": {
        "id": "-K9cz9SdIPyo"
      },
      "source": [
        "y_pred = model.predict(X_net) \n",
        "print('Classe (k-nearest neighbors):', cl[int(y_pred)])"
      ],
      "execution_count": null,
      "outputs": []
    },
    {
      "cell_type": "code",
      "metadata": {
        "id": "_JH51JDCIP2C"
      },
      "source": [
        "y_pred = model2.predict(X_net) \n",
        "print('Classe (Random Forest):', cl[int(y_pred)])"
      ],
      "execution_count": null,
      "outputs": []
    },
    {
      "cell_type": "markdown",
      "metadata": {
        "id": "uHYmsxhLInce"
      },
      "source": [
        "## Rede 3"
      ]
    },
    {
      "cell_type": "code",
      "metadata": {
        "id": "YwER2q-yInce"
      },
      "source": [
        "G= nx.read_edgelist('/content/drive/Shareddrives/Redes_complexas/lesmis.txt', nodetype=int, data=(('weight',float),))\n",
        "G = G.to_undirected()\n",
        "G.remove_edges_from(nx.selfloop_edges(G))\n",
        "Gcc = sorted(nx.connected_components(G), key=len, reverse=True)\n",
        "G = G.subgraph(Gcc[0])\n",
        "G = nx.convert_node_labels_to_integers(G, first_label=0)\n",
        "N = len(G)\n",
        "M = G.number_of_edges()\n",
        "print('Number of nodes:', N)\n",
        "print('Number of edges:', M)\n",
        "\n",
        "pos = nx.spring_layout(G)\n",
        "nx.draw(G, pos, node_color=\"b\", node_size=50, with_labels=False)"
      ],
      "execution_count": null,
      "outputs": []
    },
    {
      "cell_type": "code",
      "metadata": {
        "id": "CLBNO4oyInce"
      },
      "source": [
        "k1,k2,variance,av_cl,l,r, av_clc, av_B, av_EC, av_pr, mod_louvrain = measures(G)\n",
        "X_net = [k1,k2,variance,av_cl,l,r, av_clc, av_B, av_EC, av_pr, mod_louvrain]\n",
        "\n",
        "\n",
        "X_net = np.array(X_net)\n",
        "X_net = X_net.reshape(1,len(X_net)) \n",
        "X_net = scaler.transform(X_net)\n",
        "print('Xnet:', X_net.shape)"
      ],
      "execution_count": null,
      "outputs": []
    },
    {
      "cell_type": "code",
      "metadata": {
        "id": "_WtyNHkeInce"
      },
      "source": [
        "y_pred = model.predict(X_net) \n",
        "print('Classe (k-nearest neighbors):', cl[int(y_pred)])"
      ],
      "execution_count": null,
      "outputs": []
    },
    {
      "cell_type": "code",
      "metadata": {
        "id": "qk40jR5mIncf"
      },
      "source": [
        "y_pred = model2.predict(X_net) \n",
        "print('Classe (Random Forest):', cl[int(y_pred)])"
      ],
      "execution_count": null,
      "outputs": []
    },
    {
      "cell_type": "markdown",
      "metadata": {
        "id": "OwEltKEyKZSM"
      },
      "source": [
        "# Redes sociais"
      ]
    },
    {
      "cell_type": "markdown",
      "metadata": {
        "id": "iA2qbll8KZSN"
      },
      "source": [
        "## Rede 1"
      ]
    },
    {
      "cell_type": "code",
      "metadata": {
        "colab": {
          "base_uri": "https://localhost:8080/",
          "height": 353
        },
        "id": "LgN2JBuWKZSN",
        "outputId": "9f1027db-346b-450d-87a2-e0c632dd8f03"
      },
      "source": [
        "G= nx.read_edgelist('/content/drive/Shareddrives/Redes_complexas/lesmis.txt', nodetype=int, data=(('weight',float),))\n",
        "G = G.to_undirected()\n",
        "G.remove_edges_from(nx.selfloop_edges(G))\n",
        "Gcc = sorted(nx.connected_components(G), key=len, reverse=True)\n",
        "G = G.subgraph(Gcc[0])\n",
        "G = nx.convert_node_labels_to_integers(G, first_label=0)\n",
        "N = len(G)\n",
        "M = G.number_of_edges()\n",
        "print('Number of nodes:', N)\n",
        "print('Number of edges:', M)\n",
        "\n",
        "pos = nx.spring_layout(G)\n",
        "nx.draw(G, pos, node_color=\"b\", node_size=50, with_labels=False)"
      ],
      "execution_count": null,
      "outputs": [
        {
          "output_type": "stream",
          "text": [
            "Number of nodes: 77\n",
            "Number of edges: 254\n"
          ],
          "name": "stdout"
        },
        {
          "output_type": "display_data",
          "data": {
            "image/png": "[encoded data removed]",
            "text/plain": [
              "<Figure size 432x288 with 1 Axes>"
            ]
          },
          "metadata": {
            "tags": []
          }
        }
      ]
    },
    {
      "cell_type": "code",
      "metadata": {
        "colab": {
          "base_uri": "https://localhost:8080/"
        },
        "id": "e8b9dcM8KZSN",
        "outputId": "21271cf4-157d-42e6-c734-eef723712a64"
      },
      "source": [
        "k1,k2,variance,av_cl,l,r, av_clc, av_B, av_EC, av_pr, mod_louvrain = measures(G)\n",
        "X_net = [k1,k2,variance,av_cl,l,r, av_clc, av_B, av_EC, av_pr, mod_louvrain]\n",
        "print(X_net)\n",
        "\n",
        "X_net = np.array(X_net)\n",
        "X_net = X_net.reshape(1,len(X_net)) \n",
        "X_net = scaler.transform(X_net)\n",
        "print('Xnet:', X_net.shape)"
      ],
      "execution_count": null,
      "outputs": [
        {
          "output_type": "stream",
          "text": [
            "[6.597402597402597, 79.53246753246754, 36.006746500252994, 0.5731367499320135, 2.6411483253588517, -0.16522513442236916, 0.3893412505666164, 0.021881977671451357, 0.07802991544392937, 0.012987012987012988, 0.5529558559117133]\n",
            "Xnet: (1, 11)\n"
          ],
          "name": "stdout"
        }
      ]
    },
    {
      "cell_type": "code",
      "metadata": {
        "colab": {
          "base_uri": "https://localhost:8080/"
        },
        "id": "2RoePyNTKZSO",
        "outputId": "e0ca11a3-c1df-4e55-d7b0-738139c85101"
      },
      "source": [
        "y_pred = model.predict(X_net) \n",
        "print('Classe (k-nearest neighbors):', cl[int(y_pred)])"
      ],
      "execution_count": null,
      "outputs": [
        {
          "output_type": "stream",
          "text": [
            "Classe (k-nearest neighbors): ER\n"
          ],
          "name": "stdout"
        }
      ]
    },
    {
      "cell_type": "code",
      "metadata": {
        "colab": {
          "base_uri": "https://localhost:8080/"
        },
        "id": "jUJn3i-vKZSO",
        "outputId": "01c7417e-8597-4d93-97ca-8a904239fddd"
      },
      "source": [
        "y_pred = model2.predict(X_net) \n",
        "print('Classe (Random Forest):', cl[int(y_pred)])"
      ],
      "execution_count": null,
      "outputs": [
        {
          "output_type": "stream",
          "text": [
            "Classe (Random Forest): ER\n"
          ],
          "name": "stdout"
        }
      ]
    },
    {
      "cell_type": "markdown",
      "metadata": {
        "id": "SWErGDd9KZSO"
      },
      "source": [
        "## Rede 2"
      ]
    },
    {
      "cell_type": "code",
      "metadata": {
        "id": "NEudyQrZKZSO"
      },
      "source": [
        "G= nx.read_edgelist('/content/drive/Shareddrives/Redes_complexas/lesmis.txt', nodetype=int, data=(('weight',float),))\n",
        "G = G.to_undirected()\n",
        "G.remove_edges_from(nx.selfloop_edges(G))\n",
        "Gcc = sorted(nx.connected_components(G), key=len, reverse=True)\n",
        "G = G.subgraph(Gcc[0])\n",
        "G = nx.convert_node_labels_to_integers(G, first_label=0)\n",
        "N = len(G)\n",
        "M = G.number_of_edges()\n",
        "print('Number of nodes:', N)\n",
        "print('Number of edges:', M)\n",
        "\n",
        "pos = nx.spring_layout(G)\n",
        "nx.draw(G, pos, node_color=\"b\", node_size=50, with_labels=False)"
      ],
      "execution_count": null,
      "outputs": []
    },
    {
      "cell_type": "code",
      "metadata": {
        "id": "mMNN03LfKZSO"
      },
      "source": [
        "k1,k2,variance,av_cl,l,r, av_clc, av_B, av_EC, av_pr, mod_louvrain = measures(G)\n",
        "X_net = [k1,k2,variance,av_cl,l,r, av_clc, av_B, av_EC, av_pr, mod_louvrain]\n",
        "\n",
        "\n",
        "X_net = np.array(X_net)\n",
        "X_net = X_net.reshape(1,len(X_net)) \n",
        "X_net = scaler.transform(X_net)\n",
        "print('Xnet:', X_net.shape)"
      ],
      "execution_count": null,
      "outputs": []
    },
    {
      "cell_type": "code",
      "metadata": {
        "id": "6ZcEPOudKZSO"
      },
      "source": [
        "y_pred = model.predict(X_net) \n",
        "print('Classe (k-nearest neighbors):', cl[int(y_pred)])"
      ],
      "execution_count": null,
      "outputs": []
    },
    {
      "cell_type": "code",
      "metadata": {
        "id": "YU3S3PhBKZSR"
      },
      "source": [
        "y_pred = model2.predict(X_net) \n",
        "print('Classe (Random Forest):', cl[int(y_pred)])"
      ],
      "execution_count": null,
      "outputs": []
    },
    {
      "cell_type": "markdown",
      "metadata": {
        "id": "aEkrQvvFKZSR"
      },
      "source": [
        "## Rede 3"
      ]
    },
    {
      "cell_type": "code",
      "metadata": {
        "id": "FhXbQVM4KZSR"
      },
      "source": [
        "G= nx.read_edgelist('/content/drive/Shareddrives/Redes_complexas/lesmis.txt', nodetype=int, data=(('weight',float),))\n",
        "G = G.to_undirected()\n",
        "G.remove_edges_from(nx.selfloop_edges(G))\n",
        "Gcc = sorted(nx.connected_components(G), key=len, reverse=True)\n",
        "G = G.subgraph(Gcc[0])\n",
        "G = nx.convert_node_labels_to_integers(G, first_label=0)\n",
        "N = len(G)\n",
        "M = G.number_of_edges()\n",
        "print('Number of nodes:', N)\n",
        "print('Number of edges:', M)\n",
        "\n",
        "pos = nx.spring_layout(G)\n",
        "nx.draw(G, pos, node_color=\"b\", node_size=50, with_labels=False)"
      ],
      "execution_count": null,
      "outputs": []
    },
    {
      "cell_type": "code",
      "metadata": {
        "id": "7YZ3nR0UKZSR"
      },
      "source": [
        "k1,k2,variance,av_cl,l,r, av_clc, av_B, av_EC, av_pr, mod_louvrain = measures(G)\n",
        "X_net = [k1,k2,variance,av_cl,l,r, av_clc, av_B, av_EC, av_pr, mod_louvrain]\n",
        "\n",
        "\n",
        "X_net = np.array(X_net)\n",
        "X_net = X_net.reshape(1,len(X_net)) \n",
        "X_net = scaler.transform(X_net)\n",
        "print('Xnet:', X_net.shape)"
      ],
      "execution_count": null,
      "outputs": []
    },
    {
      "cell_type": "code",
      "metadata": {
        "id": "aBalGcW6KZSS"
      },
      "source": [
        "y_pred = model.predict(X_net) \n",
        "print('Classe (k-nearest neighbors):', cl[int(y_pred)])"
      ],
      "execution_count": null,
      "outputs": []
    },
    {
      "cell_type": "code",
      "metadata": {
        "id": "o86scXqQKZSS"
      },
      "source": [
        "y_pred = model2.predict(X_net) \n",
        "print('Classe (Random Forest):', cl[int(y_pred)])"
      ],
      "execution_count": null,
      "outputs": []
    },
    {
      "cell_type": "markdown",
      "metadata": {
        "id": "yW8ehOr1Kiac"
      },
      "source": [
        "# Redes tecnológicas"
      ]
    },
    {
      "cell_type": "markdown",
      "metadata": {
        "id": "pxEJUEogKiac"
      },
      "source": [
        "## Rede 1"
      ]
    },
    {
      "cell_type": "code",
      "metadata": {
        "colab": {
          "base_uri": "https://localhost:8080/",
          "height": 353
        },
        "id": "XhmnoR3vKiac",
        "outputId": "9f1027db-346b-450d-87a2-e0c632dd8f03"
      },
      "source": [
        "G= nx.read_edgelist('/content/drive/Shareddrives/Redes_complexas/lesmis.txt', nodetype=int, data=(('weight',float),))\n",
        "G = G.to_undirected()\n",
        "G.remove_edges_from(nx.selfloop_edges(G))\n",
        "Gcc = sorted(nx.connected_components(G), key=len, reverse=True)\n",
        "G = G.subgraph(Gcc[0])\n",
        "G = nx.convert_node_labels_to_integers(G, first_label=0)\n",
        "N = len(G)\n",
        "M = G.number_of_edges()\n",
        "print('Number of nodes:', N)\n",
        "print('Number of edges:', M)\n",
        "\n",
        "pos = nx.spring_layout(G)\n",
        "nx.draw(G, pos, node_color=\"b\", node_size=50, with_labels=False)"
      ],
      "execution_count": null,
      "outputs": [
        {
          "output_type": "stream",
          "text": [
            "Number of nodes: 77\n",
            "Number of edges: 254\n"
          ],
          "name": "stdout"
        },
        {
          "output_type": "display_data",
          "data": {
            "image/png": "[encoded data removed]",
            "text/plain": [
              "<Figure size 432x288 with 1 Axes>"
            ]
          },
          "metadata": {
            "tags": []
          }
        }
      ]
    },
    {
      "cell_type": "code",
      "metadata": {
        "colab": {
          "base_uri": "https://localhost:8080/"
        },
        "id": "ZNKPnfi9Kiac",
        "outputId": "21271cf4-157d-42e6-c734-eef723712a64"
      },
      "source": [
        "k1,k2,variance,av_cl,l,r, av_clc, av_B, av_EC, av_pr, mod_louvrain = measures(G)\n",
        "X_net = [k1,k2,variance,av_cl,l,r, av_clc, av_B, av_EC, av_pr, mod_louvrain]\n",
        "print(X_net)\n",
        "\n",
        "X_net = np.array(X_net)\n",
        "X_net = X_net.reshape(1,len(X_net)) \n",
        "X_net = scaler.transform(X_net)\n",
        "print('Xnet:', X_net.shape)"
      ],
      "execution_count": null,
      "outputs": [
        {
          "output_type": "stream",
          "text": [
            "[6.597402597402597, 79.53246753246754, 36.006746500252994, 0.5731367499320135, 2.6411483253588517, -0.16522513442236916, 0.3893412505666164, 0.021881977671451357, 0.07802991544392937, 0.012987012987012988, 0.5529558559117133]\n",
            "Xnet: (1, 11)\n"
          ],
          "name": "stdout"
        }
      ]
    },
    {
      "cell_type": "code",
      "metadata": {
        "colab": {
          "base_uri": "https://localhost:8080/"
        },
        "id": "FbXhOwe6Kiad",
        "outputId": "e0ca11a3-c1df-4e55-d7b0-738139c85101"
      },
      "source": [
        "y_pred = model.predict(X_net) \n",
        "print('Classe (k-nearest neighbors):', cl[int(y_pred)])"
      ],
      "execution_count": null,
      "outputs": [
        {
          "output_type": "stream",
          "text": [
            "Classe (k-nearest neighbors): ER\n"
          ],
          "name": "stdout"
        }
      ]
    },
    {
      "cell_type": "code",
      "metadata": {
        "colab": {
          "base_uri": "https://localhost:8080/"
        },
        "id": "EHM0WZ7EKiad",
        "outputId": "01c7417e-8597-4d93-97ca-8a904239fddd"
      },
      "source": [
        "y_pred = model2.predict(X_net) \n",
        "print('Classe (Random Forest):', cl[int(y_pred)])"
      ],
      "execution_count": null,
      "outputs": [
        {
          "output_type": "stream",
          "text": [
            "Classe (Random Forest): ER\n"
          ],
          "name": "stdout"
        }
      ]
    },
    {
      "cell_type": "markdown",
      "metadata": {
        "id": "HY9LVnoyKiad"
      },
      "source": [
        "## Rede 2"
      ]
    },
    {
      "cell_type": "code",
      "metadata": {
        "id": "n-EchZFrKiad"
      },
      "source": [
        "G= nx.read_edgelist('/content/drive/Shareddrives/Redes_complexas/lesmis.txt', nodetype=int, data=(('weight',float),))\n",
        "G = G.to_undirected()\n",
        "G.remove_edges_from(nx.selfloop_edges(G))\n",
        "Gcc = sorted(nx.connected_components(G), key=len, reverse=True)\n",
        "G = G.subgraph(Gcc[0])\n",
        "G = nx.convert_node_labels_to_integers(G, first_label=0)\n",
        "N = len(G)\n",
        "M = G.number_of_edges()\n",
        "print('Number of nodes:', N)\n",
        "print('Number of edges:', M)\n",
        "\n",
        "pos = nx.spring_layout(G)\n",
        "nx.draw(G, pos, node_color=\"b\", node_size=50, with_labels=False)"
      ],
      "execution_count": null,
      "outputs": []
    },
    {
      "cell_type": "code",
      "metadata": {
        "id": "3rPQGr7NKiad"
      },
      "source": [
        "k1,k2,variance,av_cl,l,r, av_clc, av_B, av_EC, av_pr, mod_louvrain = measures(G)\n",
        "X_net = [k1,k2,variance,av_cl,l,r, av_clc, av_B, av_EC, av_pr, mod_louvrain]\n",
        "\n",
        "\n",
        "X_net = np.array(X_net)\n",
        "X_net = X_net.reshape(1,len(X_net)) \n",
        "X_net = scaler.transform(X_net)\n",
        "print('Xnet:', X_net.shape)"
      ],
      "execution_count": null,
      "outputs": []
    },
    {
      "cell_type": "code",
      "metadata": {
        "id": "E0eXcFgsKiae"
      },
      "source": [
        "y_pred = model.predict(X_net) \n",
        "print('Classe (k-nearest neighbors):', cl[int(y_pred)])"
      ],
      "execution_count": null,
      "outputs": []
    },
    {
      "cell_type": "code",
      "metadata": {
        "id": "NvxHO5PgKiae"
      },
      "source": [
        "y_pred = model2.predict(X_net) \n",
        "print('Classe (Random Forest):', cl[int(y_pred)])"
      ],
      "execution_count": null,
      "outputs": []
    },
    {
      "cell_type": "markdown",
      "metadata": {
        "id": "EGEG7DNLKiae"
      },
      "source": [
        "## Rede 3"
      ]
    },
    {
      "cell_type": "code",
      "metadata": {
        "id": "L-G_N-DaKiae"
      },
      "source": [
        "G= nx.read_edgelist('/content/drive/Shareddrives/Redes_complexas/lesmis.txt', nodetype=int, data=(('weight',float),))\n",
        "G = G.to_undirected()\n",
        "G.remove_edges_from(nx.selfloop_edges(G))\n",
        "Gcc = sorted(nx.connected_components(G), key=len, reverse=True)\n",
        "G = G.subgraph(Gcc[0])\n",
        "G = nx.convert_node_labels_to_integers(G, first_label=0)\n",
        "N = len(G)\n",
        "M = G.number_of_edges()\n",
        "print('Number of nodes:', N)\n",
        "print('Number of edges:', M)\n",
        "\n",
        "pos = nx.spring_layout(G)\n",
        "nx.draw(G, pos, node_color=\"b\", node_size=50, with_labels=False)"
      ],
      "execution_count": null,
      "outputs": []
    },
    {
      "cell_type": "code",
      "metadata": {
        "id": "k-TwxB9uKiae"
      },
      "source": [
        "k1,k2,variance,av_cl,l,r, av_clc, av_B, av_EC, av_pr, mod_louvrain = measures(G)\n",
        "X_net = [k1,k2,variance,av_cl,l,r, av_clc, av_B, av_EC, av_pr, mod_louvrain]\n",
        "\n",
        "\n",
        "X_net = np.array(X_net)\n",
        "X_net = X_net.reshape(1,len(X_net)) \n",
        "X_net = scaler.transform(X_net)\n",
        "print('Xnet:', X_net.shape)"
      ],
      "execution_count": null,
      "outputs": []
    },
    {
      "cell_type": "code",
      "metadata": {
        "id": "j6yifS_XKiae"
      },
      "source": [
        "y_pred = model.predict(X_net) \n",
        "print('Classe (k-nearest neighbors):', cl[int(y_pred)])"
      ],
      "execution_count": null,
      "outputs": []
    },
    {
      "cell_type": "code",
      "metadata": {
        "id": "ncs6y483Kiae"
      },
      "source": [
        "y_pred = model2.predict(X_net) \n",
        "print('Classe (Random Forest):', cl[int(y_pred)])"
      ],
      "execution_count": null,
      "outputs": []
    },
    {
      "cell_type": "markdown",
      "metadata": {
        "id": "e76pEu1YIaOi"
      },
      "source": [
        "# Atributos mais importantes"
      ]
    },
    {
      "cell_type": "markdown",
      "metadata": {
        "id": "7cp-PyhS-BZb"
      },
      "source": [
        "Para descobrir qual o atributo é mais importante iremos utilizar o próprio classificador Random Forest:\n"
      ]
    },
    {
      "cell_type": "code",
      "metadata": {
        "colab": {
          "base_uri": "https://localhost:8080/",
          "height": 337
        },
        "id": "4aZ-tJw7-Z16",
        "outputId": "b207329f-9411-4e88-94ef-60daf1196afc"
      },
      "source": [
        "X_pd = pd.DataFrame(X, columns=['k1','k2','variance','av_cl','l','r', 'av_clc', 'av_B', \n",
        "                                'av_EC', 'av_pr', 'mod_louvrain'])\n",
        "y_pd = pd.DataFrame(y)\n",
        "\n",
        "plt.figure(figsize=(10,5))\n",
        "rf_model = RandomForestClassifier(random_state = 37)\n",
        "rf_model.fit(X, y)\n",
        "\n",
        "random_forest = pd.Series(rf_model.feature_importances_, index=X_pd.columns)\n",
        "random_forest.sort_values().plot(kind='barh')"
      ],
      "execution_count": null,
      "outputs": [
        {
          "output_type": "execute_result",
          "data": {
            "text/plain": [
              "<matplotlib.axes._subplots.AxesSubplot at 0x7f971471b6d0>"
            ]
          },
          "metadata": {
            "tags": []
          },
          "execution_count": 14
        },
        {
          "output_type": "display_data",
          "data": {
            "image/png": "[encoded data removed]",
            "text/plain": [
              "<Figure size 720x360 with 1 Axes>"
            ]
          },
          "metadata": {
            "tags": [],
            "needs_background": "light"
          }
        }
      ]
    },
    {
      "cell_type": "markdown",
      "metadata": {
        "id": "qIzh_8AEAXZu"
      },
      "source": [
        "O Average betweenness centrality (av_B), average shortest path length (l) e Average closeness centrality (av_clc)  tiveram as maiores importância para classificação das redes, juntas correspondem a aproximadamente 50% da explicabilidade"
      ]
    }
  ]
}