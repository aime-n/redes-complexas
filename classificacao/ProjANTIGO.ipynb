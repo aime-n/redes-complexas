{
 "cells": [
  {
   "cell_type": "markdown",
   "metadata": {},
   "source": [
    "# **Projeto de Classificação de Redes**"
   ]
  },
  {
   "cell_type": "markdown",
   "metadata": {},
   "source": [
    "## **1 - Medidas**"
   ]
  },
  {
   "cell_type": "markdown",
   "metadata": {},
   "source": [
    "### Para caracterizar as redes decidimos por utilizar as seguintes medidas:\n",
    " - #### Average Degree\n",
    " - #### Variance Degree\n",
    " - #### Second Moment\n",
    " - #### Average Clustering\n",
    " - #### Average Shortest Path Length\n",
    " - #### Degree Assortativity Coefficient\n",
    " - #### Average closeness centrality\n",
    " - #### Average betweenness centrality\n",
    " - #### Average eigenvector centrality\n",
    " - #### Average PageRank\n",
    " - #### Modularity by Louvrain Method"
   ]
  },
  {
   "cell_type": "code",
   "execution_count": 16,
   "metadata": {},
   "outputs": [],
   "source": [
    "def measures(G, p = False):\n",
    "    \n",
    "   \n",
    "    d = {\n",
    "        'N' : len(G),\n",
    "        'M' : G.number_of_edges(),\n",
    "        'mean' : momment_of_degree_distribution(G,1),\n",
    "        'var' : momment_of_degree_distribution(G,2) - momment_of_degree_distribution(G,1)**2,\n",
    "        'K2' : momment_of_degree_distribution(G,2),\n",
    "        'av_cl' : nx.average_clustering(G),\n",
    "        'l' : nx.average_shortest_path_length(G),\n",
    "        'assor' : nx.degree_assortativity_coefficient(G),\n",
    "       \n",
    "    }\n",
    "    \n",
    "    text = f\"\"\"\n",
    "    Description of the Graph: \n",
    "    \n",
    "        - Number of Nodes : {d['N']:.2f}\n",
    "        - Number of Edges: {d['M']:.2f}\n",
    "        - Average Degree: {d['mean']:.2f}\n",
    "        - Degree Variance: {d['var']:.2f}\n",
    "        - Second Momement: {d['K2']:.2f}\n",
    "        - Average Clustering: {d['av_cl']:.2f}\n",
    "        - Average Shortest Path Length: {d['l']:.2f}\n",
    "        - Degree Assortativity Coefficient: {d['assor']:.2f}\n",
    "        \n",
    "    \"\"\"\n",
    "    if p:\n",
    "        print(text)\n",
    "    \n",
    "    return d"
   ]
  },
  {
   "cell_type": "markdown",
   "metadata": {},
   "source": [
    "## **Redes**"
   ]
  },
  {
   "cell_type": "markdown",
   "metadata": {},
   "source": [
    "## Nome da primeira rede e link "
   ]
  },
  {
   "cell_type": "code",
   "execution_count": 17,
   "metadata": {},
   "outputs": [],
   "source": [
    "zachary = clean_graph(nx.read_edgelist('./data/lesmis.txt', nodetype = int, data = (('weight',float),)))"
   ]
  },
  {
   "cell_type": "code",
   "execution_count": 18,
   "metadata": {},
   "outputs": [
    {
     "data": {
      "text/plain": [
       "{0: array([-0.40178491, -0.73939121]),\n",
       " 1: array([-0.24952187, -0.33667219]),\n",
       " 2: array([-0.16196592, -0.22021429]),\n",
       " 3: array([-0.21320082, -0.21250057]),\n",
       " 4: array([-0.62123178, -0.52652862]),\n",
       " 5: array([-0.56246172, -0.61548084]),\n",
       " 6: array([-0.49201355, -0.68542163]),\n",
       " 7: array([-0.17122842, -0.75418401]),\n",
       " 8: array([-0.32017825, -0.60796839]),\n",
       " 9: array([-0.29045118, -0.76582877]),\n",
       " 10: array([-0.08096889,  0.04379762]),\n",
       " 11: array([-0.4907599 ,  0.28215249]),\n",
       " 12: array([-0.3581396, -0.1479332]),\n",
       " 13: array([-0.40069233,  0.40217665]),\n",
       " 14: array([-0.26809257,  0.47428859]),\n",
       " 15: array([-0.53830086,  0.15968817]),\n",
       " 16: array([-0.14923652, -0.16537354]),\n",
       " 17: array([0.01715328, 0.11531671]),\n",
       " 18: array([0.02797572, 0.17084312]),\n",
       " 19: array([0.031596  , 0.06194833]),\n",
       " 20: array([-0.01551863,  0.02984857]),\n",
       " 21: array([-0.28438884,  0.00398378]),\n",
       " 22: array([-0.23091614,  0.12188851]),\n",
       " 23: array([-0.26249604, -0.08634968]),\n",
       " 24: array([ 0.11404395, -0.35183549]),\n",
       " 25: array([-0.29947889,  0.07109213]),\n",
       " 26: array([-0.21969998,  0.21935281]),\n",
       " 27: array([-0.26448731,  0.18929148]),\n",
       " 28: array([-0.24494096,  0.28731542]),\n",
       " 29: array([-0.29600626,  0.26256697]),\n",
       " 30: array([-0.32939915,  0.2119161 ]),\n",
       " 31: array([-0.14744472, -0.01315021]),\n",
       " 32: array([-0.43996797,  0.03019683]),\n",
       " 33: array([0.32237488, 0.06070327]),\n",
       " 34: array([0.18428388, 0.1474619 ]),\n",
       " 35: array([0.2093139 , 0.23179209]),\n",
       " 36: array([0.13853322, 0.06527094]),\n",
       " 37: array([ 0.21256658, -0.0070263 ]),\n",
       " 38: array([ 0.26886196, -0.03974768]),\n",
       " 39: array([0.09830526, 0.22415471]),\n",
       " 40: array([0.09011548, 0.17934683]),\n",
       " 41: array([0.03314267, 0.22624816]),\n",
       " 42: array([0.08662316, 0.27556837]),\n",
       " 43: array([-0.09551343,  0.2260102 ]),\n",
       " 44: array([-0.1391854 , -0.39212734]),\n",
       " 45: array([-0.11282898, -0.28914526]),\n",
       " 46: array([-0.22771544, -0.39460049]),\n",
       " 47: array([-0.18239259, -0.40750955]),\n",
       " 48: array([-0.26065083, -0.34401279]),\n",
       " 49: array([-0.16025205, -0.34374519]),\n",
       " 50: array([-0.19744807, -0.35008689]),\n",
       " 51: array([-0.47147435, -0.20732312]),\n",
       " 52: array([0.1634296 , 0.19517556]),\n",
       " 53: array([0.06897397, 0.38117201]),\n",
       " 54: array([0.36143369, 0.31661487]),\n",
       " 55: array([0.21679823, 0.45205863]),\n",
       " 56: array([-0.01960195,  0.61908857]),\n",
       " 57: array([0.15733706, 0.29857694]),\n",
       " 58: array([0.31571743, 0.23335881]),\n",
       " 59: array([-0.59209224, -0.07935709]),\n",
       " 60: array([0.34221517, 0.61547488]),\n",
       " 61: array([0.44702629, 0.02928822]),\n",
       " 62: array([0.27473614, 0.00192997]),\n",
       " 63: array([0.6883835 , 0.25272055]),\n",
       " 64: array([1.        , 0.46346505]),\n",
       " 65: array([ 0.29967971, -0.00127695]),\n",
       " 66: array([ 0.38047209, -0.08303532]),\n",
       " 67: array([ 0.30662146, -0.07399543]),\n",
       " 68: array([ 0.35979618, -0.01526649]),\n",
       " 69: array([ 0.33193155, -0.04586673]),\n",
       " 70: array([ 0.35245481, -0.13426404]),\n",
       " 71: array([0.63025086, 0.04201034]),\n",
       " 72: array([ 0.62957073, -0.03968386]),\n",
       " 73: array([ 0.46333325, -0.12488719]),\n",
       " 74: array([0.40573473, 0.35800057]),\n",
       " 75: array([0.51369388, 0.55755809]),\n",
       " 76: array([0.71964904, 0.01107654])}"
      ]
     },
     "execution_count": 18,
     "metadata": {},
     "output_type": "execute_result"
    }
   ],
   "source": [
    "positions = nx.spring_layout(zachary)\n",
    "positions"
   ]
  },
  {
   "cell_type": "code",
   "execution_count": 19,
   "metadata": {},
   "outputs": [
    {
     "name": "stderr",
     "output_type": "stream",
     "text": [
      "/home/aime/anaconda3/lib/python3.7/site-packages/networkx/drawing/nx_pylab.py:579: MatplotlibDeprecationWarning: \n",
      "The iterable function was deprecated in Matplotlib 3.1 and will be removed in 3.3. Use np.iterable instead.\n",
      "  if not cb.iterable(width):\n"
     ]
    },
    {
     "data": {
      "image/png": "[encoded data removed]",
      "text/plain": [
       "<Figure size 432x288 with 1 Axes>"
      ]
     },
     "metadata": {},
     "output_type": "display_data"
    }
   ],
   "source": [
    "nx.draw(zachary, pos = positions, node_color = 'lightblue', with_labels = True)"
   ]
  },
  {
   "cell_type": "code",
   "execution_count": 20,
   "metadata": {},
   "outputs": [
    {
     "name": "stdout",
     "output_type": "stream",
     "text": [
      "\n",
      "    Description of the Graph: \n",
      "    \n",
      "        - Number of Nodes : 77.00\n",
      "        - Number of Edges: 254.00\n",
      "        - Average Degree: 6.60\n",
      "        - Degree Variance: 36.01\n",
      "        - Second Momement: 79.53\n",
      "        - Average Clustering: 0.57\n",
      "        - Average Shortest Path Length: 2.64\n",
      "        - Degree Assortativity Coefficient: -0.17\n",
      "        \n",
      "    \n"
     ]
    }
   ],
   "source": [
    "d = measures(zachary, True)"
   ]
  },
  {
   "cell_type": "markdown",
   "metadata": {},
   "source": [
    "## **Amostragem**"
   ]
  },
  {
   "cell_type": "markdown",
   "metadata": {},
   "source": [
    "### **Modelos**"
   ]
  },
  {
   "cell_type": "code",
   "execution_count": 21,
   "metadata": {},
   "outputs": [],
   "source": [
    "def BA(N, k, seed):\n",
    "    \n",
    "    m = int(k/2)\n",
    "\n",
    "    return clean_graph(nx.barabasi_albert_graph(N, m, seed = seed))"
   ]
  },
  {
   "cell_type": "code",
   "execution_count": 22,
   "metadata": {},
   "outputs": [],
   "source": [
    "def ER(N, k, seed):\n",
    "    \n",
    "    p = k/(N - 1)\n",
    "    \n",
    "    return clean_graph(nx.gnp_random_graph(N, p, seed = seed))"
   ]
  },
  {
   "cell_type": "code",
   "execution_count": 23,
   "metadata": {},
   "outputs": [],
   "source": [
    "def SW(N, k, seed, p = 0.1):\n",
    "    \n",
    "    return clean_graph(nx.watts_strogatz_graph(N, int(k), p, seed = seed))"
   ]
  },
  {
   "cell_type": "code",
   "execution_count": 24,
   "metadata": {},
   "outputs": [],
   "source": [
    "def sample(N, K, models, labels, col_names, size = 30):\n",
    "    \n",
    "    attr = []\n",
    "    \n",
    "    for i in np.arange(size):\n",
    "        for model, label in zip(models, labels):\n",
    "            \n",
    "            attr.append(list(measures(model(N, K, i+10)).values())+[label])\n",
    "            \n",
    "    attr = np.array(attr)\n",
    "    \n",
    "    df = pd.DataFrame(attr, columns = col_names)\n",
    "    \n",
    "    return df"
   ]
  },
  {
   "cell_type": "code",
   "execution_count": 27,
   "metadata": {},
   "outputs": [
    {
     "ename": "ValueError",
     "evalue": "10 cannot be used to generate a random.Random instance",
     "output_type": "error",
     "traceback": [
      "\u001b[0;31m---------------------------------------------------------------------------\u001b[0m",
      "\u001b[0;31mValueError\u001b[0m                                Traceback (most recent call last)",
      "\u001b[0;32m<ipython-input-27-5b0cfbeeaf46>\u001b[0m in \u001b[0;36m<module>\u001b[0;34m\u001b[0m\n\u001b[1;32m      1\u001b[0m \u001b[0mcol_names\u001b[0m \u001b[0;34m=\u001b[0m \u001b[0;34m[\u001b[0m\u001b[0;34m'N'\u001b[0m\u001b[0;34m,\u001b[0m \u001b[0;34m'M'\u001b[0m\u001b[0;34m,\u001b[0m \u001b[0;34m'mean'\u001b[0m\u001b[0;34m,\u001b[0m \u001b[0;34m'var'\u001b[0m\u001b[0;34m,\u001b[0m \u001b[0;34m'K2'\u001b[0m\u001b[0;34m,\u001b[0m \u001b[0;34m'av_cl'\u001b[0m\u001b[0;34m,\u001b[0m \u001b[0;34m'l'\u001b[0m\u001b[0;34m,\u001b[0m\u001b[0;34m'assor'\u001b[0m\u001b[0;34m,\u001b[0m \u001b[0;34m'label'\u001b[0m\u001b[0;34m]\u001b[0m\u001b[0;34m\u001b[0m\u001b[0;34m\u001b[0m\u001b[0m\n\u001b[1;32m      2\u001b[0m \u001b[0;34m\u001b[0m\u001b[0m\n\u001b[0;32m----> 3\u001b[0;31m \u001b[0mdf\u001b[0m \u001b[0;34m=\u001b[0m \u001b[0msample\u001b[0m\u001b[0;34m(\u001b[0m\u001b[0md\u001b[0m\u001b[0;34m[\u001b[0m\u001b[0;34m'N'\u001b[0m\u001b[0;34m]\u001b[0m\u001b[0;34m,\u001b[0m \u001b[0md\u001b[0m\u001b[0;34m[\u001b[0m\u001b[0;34m'mean'\u001b[0m\u001b[0;34m]\u001b[0m\u001b[0;34m,\u001b[0m \u001b[0;34m[\u001b[0m\u001b[0mBA\u001b[0m\u001b[0;34m,\u001b[0m \u001b[0mER\u001b[0m\u001b[0;34m,\u001b[0m \u001b[0mSW\u001b[0m\u001b[0;34m]\u001b[0m\u001b[0;34m,\u001b[0m\u001b[0;34m[\u001b[0m\u001b[0;34m'BA'\u001b[0m\u001b[0;34m,\u001b[0m \u001b[0;34m'ER'\u001b[0m\u001b[0;34m,\u001b[0m \u001b[0;34m'SW'\u001b[0m\u001b[0;34m]\u001b[0m\u001b[0;34m,\u001b[0m \u001b[0mcol_names\u001b[0m\u001b[0;34m,\u001b[0m \u001b[0;36m30\u001b[0m\u001b[0;34m)\u001b[0m\u001b[0;34m\u001b[0m\u001b[0;34m\u001b[0m\u001b[0m\n\u001b[0m",
      "\u001b[0;32m<ipython-input-24-1dc061e4ceb6>\u001b[0m in \u001b[0;36msample\u001b[0;34m(N, K, models, labels, col_names, size)\u001b[0m\n\u001b[1;32m      6\u001b[0m         \u001b[0;32mfor\u001b[0m \u001b[0mmodel\u001b[0m\u001b[0;34m,\u001b[0m \u001b[0mlabel\u001b[0m \u001b[0;32min\u001b[0m \u001b[0mzip\u001b[0m\u001b[0;34m(\u001b[0m\u001b[0mmodels\u001b[0m\u001b[0;34m,\u001b[0m \u001b[0mlabels\u001b[0m\u001b[0;34m)\u001b[0m\u001b[0;34m:\u001b[0m\u001b[0;34m\u001b[0m\u001b[0;34m\u001b[0m\u001b[0m\n\u001b[1;32m      7\u001b[0m \u001b[0;34m\u001b[0m\u001b[0m\n\u001b[0;32m----> 8\u001b[0;31m             \u001b[0mattr\u001b[0m\u001b[0;34m.\u001b[0m\u001b[0mappend\u001b[0m\u001b[0;34m(\u001b[0m\u001b[0mlist\u001b[0m\u001b[0;34m(\u001b[0m\u001b[0mmeasures\u001b[0m\u001b[0;34m(\u001b[0m\u001b[0mmodel\u001b[0m\u001b[0;34m(\u001b[0m\u001b[0mN\u001b[0m\u001b[0;34m,\u001b[0m \u001b[0mK\u001b[0m\u001b[0;34m,\u001b[0m \u001b[0mi\u001b[0m\u001b[0;34m+\u001b[0m\u001b[0;36m10\u001b[0m\u001b[0;34m)\u001b[0m\u001b[0;34m)\u001b[0m\u001b[0;34m.\u001b[0m\u001b[0mvalues\u001b[0m\u001b[0;34m(\u001b[0m\u001b[0;34m)\u001b[0m\u001b[0;34m)\u001b[0m\u001b[0;34m+\u001b[0m\u001b[0;34m[\u001b[0m\u001b[0mlabel\u001b[0m\u001b[0;34m]\u001b[0m\u001b[0;34m)\u001b[0m\u001b[0;34m\u001b[0m\u001b[0;34m\u001b[0m\u001b[0m\n\u001b[0m\u001b[1;32m      9\u001b[0m \u001b[0;34m\u001b[0m\u001b[0m\n\u001b[1;32m     10\u001b[0m     \u001b[0mattr\u001b[0m \u001b[0;34m=\u001b[0m \u001b[0mnp\u001b[0m\u001b[0;34m.\u001b[0m\u001b[0marray\u001b[0m\u001b[0;34m(\u001b[0m\u001b[0mattr\u001b[0m\u001b[0;34m)\u001b[0m\u001b[0;34m\u001b[0m\u001b[0;34m\u001b[0m\u001b[0m\n",
      "\u001b[0;32m<ipython-input-21-9baf811bac40>\u001b[0m in \u001b[0;36mBA\u001b[0;34m(N, k, seed)\u001b[0m\n\u001b[1;32m      3\u001b[0m     \u001b[0mm\u001b[0m \u001b[0;34m=\u001b[0m \u001b[0mint\u001b[0m\u001b[0;34m(\u001b[0m\u001b[0mk\u001b[0m\u001b[0;34m/\u001b[0m\u001b[0;36m2\u001b[0m\u001b[0;34m)\u001b[0m\u001b[0;34m\u001b[0m\u001b[0;34m\u001b[0m\u001b[0m\n\u001b[1;32m      4\u001b[0m \u001b[0;34m\u001b[0m\u001b[0m\n\u001b[0;32m----> 5\u001b[0;31m     \u001b[0;32mreturn\u001b[0m \u001b[0mclean_graph\u001b[0m\u001b[0;34m(\u001b[0m\u001b[0mnx\u001b[0m\u001b[0;34m.\u001b[0m\u001b[0mbarabasi_albert_graph\u001b[0m\u001b[0;34m(\u001b[0m\u001b[0mN\u001b[0m\u001b[0;34m,\u001b[0m \u001b[0mm\u001b[0m\u001b[0;34m,\u001b[0m \u001b[0mseed\u001b[0m \u001b[0;34m=\u001b[0m \u001b[0mseed\u001b[0m\u001b[0;34m)\u001b[0m\u001b[0;34m)\u001b[0m\u001b[0;34m\u001b[0m\u001b[0;34m\u001b[0m\u001b[0m\n\u001b[0m",
      "\u001b[0;32m</home/aime/anaconda3/lib/python3.7/site-packages/decorator.py:decorator-gen-677>\u001b[0m in \u001b[0;36mbarabasi_albert_graph\u001b[0;34m(n, m, seed)\u001b[0m\n",
      "\u001b[0;32m~/anaconda3/lib/python3.7/site-packages/networkx/utils/decorators.py\u001b[0m in \u001b[0;36m_random_state\u001b[0;34m(func, *args, **kwargs)\u001b[0m\n\u001b[1;32m    457\u001b[0m \u001b[0;34m\u001b[0m\u001b[0m\n\u001b[1;32m    458\u001b[0m         \u001b[0;31m# Create a numpy.random.RandomState instance\u001b[0m\u001b[0;34m\u001b[0m\u001b[0;34m\u001b[0m\u001b[0;34m\u001b[0m\u001b[0m\n\u001b[0;32m--> 459\u001b[0;31m         \u001b[0mrandom_state\u001b[0m \u001b[0;34m=\u001b[0m \u001b[0mcreate_py_random_state\u001b[0m\u001b[0;34m(\u001b[0m\u001b[0mrandom_state_arg\u001b[0m\u001b[0;34m)\u001b[0m\u001b[0;34m\u001b[0m\u001b[0;34m\u001b[0m\u001b[0m\n\u001b[0m\u001b[1;32m    460\u001b[0m \u001b[0;34m\u001b[0m\u001b[0m\n\u001b[1;32m    461\u001b[0m         \u001b[0;31m# args is a tuple, so we must convert to list before modifying it.\u001b[0m\u001b[0;34m\u001b[0m\u001b[0;34m\u001b[0m\u001b[0;34m\u001b[0m\u001b[0m\n",
      "\u001b[0;32m~/anaconda3/lib/python3.7/site-packages/networkx/utils/misc.py\u001b[0m in \u001b[0;36mcreate_py_random_state\u001b[0;34m(random_state)\u001b[0m\n\u001b[1;32m    407\u001b[0m         \u001b[0;32mreturn\u001b[0m \u001b[0mrandom\u001b[0m\u001b[0;34m.\u001b[0m\u001b[0mRandom\u001b[0m\u001b[0;34m(\u001b[0m\u001b[0mrandom_state\u001b[0m\u001b[0;34m)\u001b[0m\u001b[0;34m\u001b[0m\u001b[0;34m\u001b[0m\u001b[0m\n\u001b[1;32m    408\u001b[0m     \u001b[0mmsg\u001b[0m \u001b[0;34m=\u001b[0m \u001b[0;34m'%r cannot be used to generate a random.Random instance'\u001b[0m\u001b[0;34m\u001b[0m\u001b[0;34m\u001b[0m\u001b[0m\n\u001b[0;32m--> 409\u001b[0;31m     \u001b[0;32mraise\u001b[0m \u001b[0mValueError\u001b[0m\u001b[0;34m(\u001b[0m\u001b[0mmsg\u001b[0m \u001b[0;34m%\u001b[0m \u001b[0mrandom_state\u001b[0m\u001b[0;34m)\u001b[0m\u001b[0;34m\u001b[0m\u001b[0;34m\u001b[0m\u001b[0m\n\u001b[0m\u001b[1;32m    410\u001b[0m \u001b[0;34m\u001b[0m\u001b[0m\n\u001b[1;32m    411\u001b[0m \u001b[0;34m\u001b[0m\u001b[0m\n",
      "\u001b[0;31mValueError\u001b[0m: 10 cannot be used to generate a random.Random instance"
     ]
    }
   ],
   "source": [
    "col_names = ['N', 'M', 'mean', 'var', 'K2', 'av_cl', 'l','assor', 'label']\n",
    "\n",
    "df = sample(d['N'], d['mean'], [BA, ER, SW],['BA', 'ER', 'SW'], col_names, 30)"
   ]
  },
  {
   "cell_type": "code",
   "execution_count": 26,
   "metadata": {},
   "outputs": [
    {
     "ename": "NameError",
     "evalue": "name 'df' is not defined",
     "output_type": "error",
     "traceback": [
      "\u001b[0;31m---------------------------------------------------------------------------\u001b[0m",
      "\u001b[0;31mNameError\u001b[0m                                 Traceback (most recent call last)",
      "\u001b[0;32m<ipython-input-26-00cf07b74dcd>\u001b[0m in \u001b[0;36m<module>\u001b[0;34m\u001b[0m\n\u001b[0;32m----> 1\u001b[0;31m \u001b[0mdf\u001b[0m\u001b[0;34m\u001b[0m\u001b[0;34m\u001b[0m\u001b[0m\n\u001b[0m",
      "\u001b[0;31mNameError\u001b[0m: name 'df' is not defined"
     ]
    }
   ],
   "source": [
    "df"
   ]
  },
  {
   "cell_type": "markdown",
   "metadata": {},
   "source": [
    "## **Classificação**"
   ]
  },
  {
   "cell_type": "code",
   "execution_count": 396,
   "metadata": {},
   "outputs": [],
   "source": [
    "def knn(x, y, attr, k = 5, pca_r = False, n_c = 2):\n",
    "    \n",
    "    X = x.to_numpy()\n",
    "    Y = y.to_numpy()\n",
    "    \n",
    "    scaler = StandardScaler().fit(X)\n",
    "    \n",
    "    X = scaler.transform(X)\n",
    "    \n",
    "    attr = np.array(attr)\n",
    "    \n",
    "    attr = attr.reshape(1,len(attr)) \n",
    "    attr = scaler.transform(attr)\n",
    "    \n",
    "    if pca_r:\n",
    "\n",
    "        pca = PCA(n_components = n_c)\n",
    "        pca.fit(X)\n",
    "            \n",
    "        exple = pca.explained_variance_ratio_\n",
    "        \n",
    "        X = pca.transform(X)\n",
    "        attr =  pca.transform(attr)\n",
    "        \n",
    "        plot_with_labels(X, y, fit = attr)\n",
    "        \n",
    "        print(f'Explained Variance Ratio: {exple.sum()}')\n",
    "    \n",
    "    model = KNeighborsClassifier(n_neighbors = 5, metric = 'euclidean')\n",
    "    model.fit(X,Y)\n",
    "    \n",
    "    return model.predict(attr)"
   ]
  },
  {
   "cell_type": "code",
   "execution_count": 402,
   "metadata": {},
   "outputs": [
    {
     "name": "stdout",
     "output_type": "stream",
     "text": [
      "Explained Variance Ratio: 0.9687459408885344\n"
     ]
    },
    {
     "data": {
      "text/plain": [
       "array(['BA'], dtype=object)"
      ]
     },
     "execution_count": 402,
     "metadata": {},
     "output_type": "execute_result"
    },
    {
     "data": {
      "image/png": "[encoded data removed]",
      "text/plain": [
       "<Figure size 576x576 with 1 Axes>"
      ]
     },
     "metadata": {
      "needs_background": "light"
     },
     "output_type": "display_data"
    }
   ],
   "source": [
    "knn(df.iloc[:, 2:8], df.iloc[:, 8], list(d.values())[2:], pca_r = True, n_c = 3)"
   ]
  },
  {
   "cell_type": "markdown",
   "metadata": {},
   "source": [
    "## **Variáveis Relevantes**"
   ]
  },
  {
   "cell_type": "code",
   "execution_count": 409,
   "metadata": {},
   "outputs": [],
   "source": [
    "def most_relevants(x, y):\n",
    "    \n",
    "    X = x.to_numpy()\n",
    "    Y = y.to_numpy()\n",
    "    \n",
    "    model = RandomForestClassifier(random_state = 37)\n",
    "    model.fit(X,Y)\n",
    "    \n",
    "    random_forest = pd.Series(model.feature_importances_, index=x.columns)\n",
    "    random_forest.sort_values().plot(kind='barh')"
   ]
  },
  {
   "cell_type": "code",
   "execution_count": 410,
   "metadata": {},
   "outputs": [
    {
     "data": {
      "image/png": "[encoded data removed]",
      "text/plain": [
       "<Figure size 432x288 with 1 Axes>"
      ]
     },
     "metadata": {
      "needs_background": "light"
     },
     "output_type": "display_data"
    }
   ],
   "source": [
    "most_relevants(df.iloc[:, 2:8], df.iloc[:, 8])"
   ]
  },
  {
   "cell_type": "markdown",
   "metadata": {},
   "source": [
    "## **Funções Auxiliares**"
   ]
  },
  {
   "cell_type": "code",
   "execution_count": 8,
   "metadata": {},
   "outputs": [],
   "source": [
    "def plot_with_labels(X, labels, fit = [[],[]], title = ''):\n",
    "    \n",
    "    label_filters, label_values = filters(labels)\n",
    "        \n",
    "    plt.figure(figsize = (8, 8))\n",
    "\n",
    "    for f, v in zip(label_filters, label_values):\n",
    "        plt.plot(X[f][:, 0], X[f][:, 1], 'o', label = v)\n",
    "        \n",
    "    plt.plot(fit[:,0], fit[:, 1], 'o', c = 'red',  label = 'To Predict')\n",
    "\n",
    "    plt.xlabel('PC-1')\n",
    "    plt.ylabel('PC-2')\n",
    "    \n",
    "    plt.title(title)\n",
    "    \n",
    "    plt.legend()"
   ]
  },
  {
   "cell_type": "code",
   "execution_count": 9,
   "metadata": {},
   "outputs": [],
   "source": [
    "def filters(labels):\n",
    "    \n",
    "    values = labels.unique()\n",
    "    \n",
    "    n = len(values)\n",
    "    \n",
    "    f = []\n",
    "    \n",
    "    for v in values:\n",
    "        \n",
    "        f.append(labels == v)\n",
    "    \n",
    "    return f, values"
   ]
  },
  {
   "cell_type": "code",
   "execution_count": 10,
   "metadata": {},
   "outputs": [],
   "source": [
    "def shannon_entropy(G):\n",
    "    \n",
    "    k, Pk = degree_distribution(G)\n",
    "    \n",
    "    H = 0\n",
    "    \n",
    "    for p in Pk:\n",
    "        \n",
    "        if p > 0:\n",
    "            \n",
    "            H -= p*np.log2(p)\n",
    "    \n",
    "    return H"
   ]
  },
  {
   "cell_type": "code",
   "execution_count": 11,
   "metadata": {},
   "outputs": [],
   "source": [
    "def momment_of_degree_distribution(G, m):\n",
    "    \n",
    "    k, Pk = degree_distribution(G)\n",
    "    \n",
    "    M = sum((k**m)*Pk)\n",
    "    \n",
    "    return M"
   ]
  },
  {
   "cell_type": "code",
   "execution_count": 12,
   "metadata": {},
   "outputs": [],
   "source": [
    "def degree_distribution(G):\n",
    "    \n",
    "    vk = np.array(list(dict(G.degree()).values()))\n",
    "    \n",
    "    maxk = vk.max()\n",
    "    minK = vk.min()\n",
    "    \n",
    "    kvalues = np.arange(maxk + 1)\n",
    "    Pk = np.zeros(maxk + 1)\n",
    "    \n",
    "    for k in vk:\n",
    "        \n",
    "        Pk[k] += 1\n",
    "        \n",
    "    Pk = Pk/Pk.sum()\n",
    "    \n",
    "    return kvalues, Pk"
   ]
  },
  {
   "cell_type": "code",
   "execution_count": 13,
   "metadata": {},
   "outputs": [],
   "source": [
    " def modularity(G, c):\n",
    "        \n",
    "    A = nx.adjacency_matrix(G)\n",
    "        \n",
    "    N = len(G)\n",
    "    M = G.number_of_edges()\n",
    "        \n",
    "    Q = 0\n",
    "        \n",
    "    for i in np.arange(0,N):\n",
    "        \n",
    "        ki = len(list(G.neighbors(i)))\n",
    "            \n",
    "        for j in np.arange(0,N):\n",
    "                \n",
    "            if(c[i]==c[j]):\n",
    "                    \n",
    "                kj = len(list(G.neighbors(j)))\n",
    "                Q = Q + A[i,j]-(ki*kj)/(2*M)\n",
    "                \n",
    "    Q = Q/(2*M)\n",
    "    \n",
    "    return Q"
   ]
  },
  {
   "cell_type": "code",
   "execution_count": 14,
   "metadata": {},
   "outputs": [],
   "source": [
    "def description(G, p = False):\n",
    "    \n",
    "    d = {\n",
    "        'N' : len(G),\n",
    "        'M' : G.number_of_edges(),\n",
    "        'mean' : momment_of_degree_distribution(G,1),\n",
    "        'var' : momment_of_degree_distribution(G,2) - momment_of_degree_distribution(G,1)**2,\n",
    "        'K2' : momment_of_degree_distribution(G,2),\n",
    "        'av_cl' : nx.average_clustering(G),\n",
    "        'l' : nx.average_shortest_path_length(G),\n",
    "        'assor' : nx.degree_assortativity_coefficient(G)\n",
    "    }\n",
    "    \n",
    "    text = f\"\"\"\n",
    "    Description of the Graph: \n",
    "    \n",
    "        - Number of Nodes : {d['N']:.2f}\n",
    "        - Number of Edges: {d['M']:.2f}\n",
    "        - Average Degree: {d['mean']:.2f}\n",
    "        - Degree Variance: {d['var']:.2f}\n",
    "        - Second Momement: {d['K2']:.2f}\n",
    "        - Average Clustering: {d['av_cl']:.2f}\n",
    "        - Average Shortest Path Length: {d['l']:.2f}\n",
    "        - Degree Assortativity Coefficient: {d['assor']:.2f}\n",
    "    \"\"\"\n",
    "    if p:\n",
    "        print(text)\n",
    "    \n",
    "    return d"
   ]
  },
  {
   "cell_type": "code",
   "execution_count": 15,
   "metadata": {},
   "outputs": [],
   "source": [
    "def clean_graph(G, remove_edges = True):\n",
    "    \n",
    "    G = G.to_undirected()\n",
    "    nodes_original = G.nodes\n",
    "    \n",
    "    if remove_edges:\n",
    "        \n",
    "        G.remove_edges_from(nx.selfloop_edges(G))\n",
    "    \n",
    "    G_cc = sorted(nx.connected_components(G), key = len, reverse =True)\n",
    "    G = G.subgraph(G_cc[0])\n",
    "    G = nx.convert_node_labels_to_integers(G, first_label = 0 )\n",
    "    \n",
    "    return G"
   ]
  },
  {
   "cell_type": "markdown",
   "metadata": {},
   "source": [
    "## **Bibliotecas**"
   ]
  },
  {
   "cell_type": "code",
   "execution_count": 2,
   "metadata": {},
   "outputs": [],
   "source": [
    "import numpy as np"
   ]
  },
  {
   "cell_type": "code",
   "execution_count": 3,
   "metadata": {},
   "outputs": [],
   "source": [
    "import networkx as nx"
   ]
  },
  {
   "cell_type": "code",
   "execution_count": 4,
   "metadata": {},
   "outputs": [],
   "source": [
    "import matplotlib.pyplot as plt"
   ]
  },
  {
   "cell_type": "code",
   "execution_count": 5,
   "metadata": {},
   "outputs": [],
   "source": [
    "import pandas as pd"
   ]
  },
  {
   "cell_type": "code",
   "execution_count": 6,
   "metadata": {},
   "outputs": [],
   "source": [
    "from community import community_louvain"
   ]
  },
  {
   "cell_type": "code",
   "execution_count": 7,
   "metadata": {},
   "outputs": [],
   "source": [
    "from sklearn.preprocessing import StandardScaler\n",
    "from sklearn.neighbors import KNeighborsClassifier\n",
    "from sklearn.ensemble import RandomForestClassifier\n",
    "from sklearn.decomposition import PCA"
   ]
  },
  {
   "cell_type": "code",
   "execution_count": null,
   "metadata": {},
   "outputs": [],
   "source": []
  }
 ],
 "metadata": {
  "kernelspec": {
   "display_name": "Python 3",
   "language": "python",
   "name": "python3"
  },
  "language_info": {
   "codemirror_mode": {
    "name": "ipython",
    "version": 3
   },
   "file_extension": ".py",
   "mimetype": "text/x-python",
   "name": "python",
   "nbconvert_exporter": "python",
   "pygments_lexer": "ipython3",
   "version": "3.7.6"
  }
 },
 "nbformat": 4,
 "nbformat_minor": 5
}
