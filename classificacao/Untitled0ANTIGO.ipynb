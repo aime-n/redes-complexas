{
  "nbformat": 4,
  "nbformat_minor": 0,
  "metadata": {
    "colab": {
      "name": "Untitled0.ipynb",
      "provenance": []
    },
    "kernelspec": {
      "name": "python3",
      "display_name": "Python 3"
    },
    "language_info": {
      "name": "python"
    }
  },
  "cells": [
    {
      "cell_type": "code",
      "metadata": {
        "id": "RAavJOSEHSuY"
      },
      "source": [
        "G= nx.read_edgelist('/content/drive/Shareddrives/Redes_complexas/lesmis.txt', nodetype=int, data=(('weight',float),))\n",
        "G = G.to_undirected()\n",
        "G.remove_edges_from(nx.selfloop_edges(G))\n",
        "Gcc = sorted(nx.connected_components(G), key=len, reverse=True)\n",
        "G = G.subgraph(Gcc[0])\n",
        "G = nx.convert_node_labels_to_integers(G, first_label=0)\n",
        "N = len(G)\n",
        "M = G.number_of_edges()\n",
        "print('Number of nodes:', N)\n",
        "print('Number of edges:', M)\n",
        "\n",
        "pos = nx.spring_layout(G)\n",
        "nx.draw(G, pos, node_color=\"b\", node_size=50, with_labels=False)"
      ],
      "execution_count": null,
      "outputs": []
    },
    {
      "cell_type": "code",
      "metadata": {
        "id": "uf8yPM3-HUyt"
      },
      "source": [
        "k1,k2,variance,av_cl,l,r, av_clc, av_B, av_EC, av_pr, mod_louvrain = measures(G)\n",
        "X_net = [k1,k2,variance,av_cl,l,r, av_clc, av_B, av_EC, av_pr, mod_louvrain]\n",
        "\n",
        "\n",
        "X_net = np.array(X_net)\n",
        "X_net = X_net.reshape(1,len(X_net)) \n",
        "X_net = scaler.transform(X_net)\n",
        "print('Xnet:', X_net.shape)"
      ],
      "execution_count": null,
      "outputs": []
    },
    {
      "cell_type": "code",
      "metadata": {
        "id": "7ET6mmEpH-ji"
      },
      "source": [
        "y_pred = model.predict(X_net) \n",
        "print('Classe (k-nearest neighbors):', cl[int(y_pred)])"
      ],
      "execution_count": null,
      "outputs": []
    },
    {
      "cell_type": "code",
      "metadata": {
        "id": "zc14gs0_IAGl"
      },
      "source": [
        "y_pred = model2.predict(X_net) \n",
        "print('Classe (Random Forest):', cl[int(y_pred)])"
      ],
      "execution_count": null,
      "outputs": []
    }
  ]
}